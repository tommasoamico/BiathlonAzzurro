{
 "cells": [
  {
   "cell_type": "markdown",
   "metadata": {},
   "source": [
    "# A predictor for in race win and podium probability\n",
    "\n",
    "What will be carried out in the following is the training and the testing of an in-race win and podium probability predictor with a outlook for developemnts in a tool working before the race even starts.\n",
    "\n",
    "After some toughts for which I thank UniPD professor Alberto Testolin, Random forests will be applied to loo for a proper solution. XGBoost will be also tried out to further expand initial findings.\n",
    "\n",
    "\n",
    "## The data\n",
    "\n",
    "The data consists into a Pandas DataFrame containing intermediate ties and results of the Biathlon world cup season from 2016-2017 to 2021-2022. All the seasons but the last one, which is used for testing, are used for training.\n"
   ]
  },
  {
   "cell_type": "code",
   "execution_count": 1,
   "metadata": {},
   "outputs": [
    {
     "name": "stderr",
     "output_type": "stream",
     "text": [
      "/Applications/anaconda3/envs/torch/lib/python3.8/site-packages/xgboost/compat.py:36: FutureWarning: pandas.Int64Index is deprecated and will be removed from pandas in a future version. Use pandas.Index with the appropriate dtype instead.\n",
      "  from pandas import MultiIndex, Int64Index\n"
     ]
    }
   ],
   "source": [
    "import xgboost as xgb\n",
    "from sklearn.datasets import load_boston\n",
    "from sklearn.model_selection import train_test_split\n",
    "from sklearn.metrics import mean_squared_error"
   ]
  },
  {
   "cell_type": "code",
   "execution_count": 2,
   "metadata": {},
   "outputs": [],
   "source": [
    "import pandas as pd\n",
    "import numpy as np\n",
    "import sklearn\n",
    "import matplotlib.pyplot as plt\n",
    "from collections import OrderedDict\n",
    "from sklearn.model_selection import KFold\n",
    "from sklearn.ensemble import RandomForestClassifier\n",
    "from sklearn import metrics\n",
    "from matplotlib.patches import Rectangle"
   ]
  },
  {
   "cell_type": "code",
   "execution_count": null,
   "metadata": {},
   "outputs": [],
   "source": [
    "data_df = pd.read_csv('../data/sixth_df_input.csv')"
   ]
  },
  {
   "cell_type": "code",
   "execution_count": null,
   "metadata": {},
   "outputs": [
    {
     "data": {
      "text/html": [
       "<div>\n",
       "<style scoped>\n",
       "    .dataframe tbody tr th:only-of-type {\n",
       "        vertical-align: middle;\n",
       "    }\n",
       "\n",
       "    .dataframe tbody tr th {\n",
       "        vertical-align: top;\n",
       "    }\n",
       "\n",
       "    .dataframe thead th {\n",
       "        text-align: right;\n",
       "    }\n",
       "</style>\n",
       "<table border=\"1\" class=\"dataframe\">\n",
       "  <thead>\n",
       "    <tr style=\"text-align: right;\">\n",
       "      <th></th>\n",
       "      <th>full_name</th>\n",
       "      <th>distance</th>\n",
       "      <th>Rank</th>\n",
       "      <th>sex</th>\n",
       "      <th>Behind</th>\n",
       "      <th>format</th>\n",
       "      <th>season</th>\n",
       "      <th>date</th>\n",
       "      <th>date_order</th>\n",
       "      <th>position</th>\n",
       "      <th>...</th>\n",
       "      <th>gradient_back</th>\n",
       "      <th>gradient_standing</th>\n",
       "      <th>gradient_prone</th>\n",
       "      <th>gradient_pos</th>\n",
       "      <th>behind_above</th>\n",
       "      <th>behind_below</th>\n",
       "      <th>standing_above</th>\n",
       "      <th>standing_below</th>\n",
       "      <th>prone_above</th>\n",
       "      <th>prone_below</th>\n",
       "    </tr>\n",
       "  </thead>\n",
       "  <tbody>\n",
       "    <tr>\n",
       "      <th>0</th>\n",
       "      <td>Dorothea_Wierer</td>\n",
       "      <td>1.1</td>\n",
       "      <td>30</td>\n",
       "      <td>women</td>\n",
       "      <td>0.0</td>\n",
       "      <td>individual</td>\n",
       "      <td>2016-2017</td>\n",
       "      <td>2016-11-30</td>\n",
       "      <td>1.0</td>\n",
       "      <td>1.0</td>\n",
       "      <td>...</td>\n",
       "      <td>0.0</td>\n",
       "      <td>0.0</td>\n",
       "      <td>0.0</td>\n",
       "      <td>0.0</td>\n",
       "      <td>217.035531</td>\n",
       "      <td>0.000000</td>\n",
       "      <td>13.507138</td>\n",
       "      <td>0.000000</td>\n",
       "      <td>15.798079</td>\n",
       "      <td>0.000000</td>\n",
       "    </tr>\n",
       "    <tr>\n",
       "      <th>1</th>\n",
       "      <td>Kaisa_Makarainen</td>\n",
       "      <td>1.1</td>\n",
       "      <td>23</td>\n",
       "      <td>women</td>\n",
       "      <td>1.0</td>\n",
       "      <td>individual</td>\n",
       "      <td>2016-2017</td>\n",
       "      <td>2016-11-30</td>\n",
       "      <td>1.0</td>\n",
       "      <td>2.0</td>\n",
       "      <td>...</td>\n",
       "      <td>0.0</td>\n",
       "      <td>0.0</td>\n",
       "      <td>0.0</td>\n",
       "      <td>0.0</td>\n",
       "      <td>209.589657</td>\n",
       "      <td>-0.950000</td>\n",
       "      <td>13.456853</td>\n",
       "      <td>0.723128</td>\n",
       "      <td>15.749754</td>\n",
       "      <td>0.835813</td>\n",
       "    </tr>\n",
       "    <tr>\n",
       "      <th>2</th>\n",
       "      <td>Mari_Eder</td>\n",
       "      <td>1.1</td>\n",
       "      <td>63</td>\n",
       "      <td>women</td>\n",
       "      <td>1.8</td>\n",
       "      <td>individual</td>\n",
       "      <td>2016-2017</td>\n",
       "      <td>2016-11-30</td>\n",
       "      <td>1.0</td>\n",
       "      <td>3.0</td>\n",
       "      <td>...</td>\n",
       "      <td>0.0</td>\n",
       "      <td>0.0</td>\n",
       "      <td>0.0</td>\n",
       "      <td>0.0</td>\n",
       "      <td>205.531178</td>\n",
       "      <td>-2.432000</td>\n",
       "      <td>13.449124</td>\n",
       "      <td>1.369304</td>\n",
       "      <td>15.707010</td>\n",
       "      <td>1.622503</td>\n",
       "    </tr>\n",
       "    <tr>\n",
       "      <th>3</th>\n",
       "      <td>Gabriela_Koukalova</td>\n",
       "      <td>1.1</td>\n",
       "      <td>16</td>\n",
       "      <td>women</td>\n",
       "      <td>3.8</td>\n",
       "      <td>individual</td>\n",
       "      <td>2016-2017</td>\n",
       "      <td>2016-11-30</td>\n",
       "      <td>1.0</td>\n",
       "      <td>4.0</td>\n",
       "      <td>...</td>\n",
       "      <td>0.0</td>\n",
       "      <td>0.0</td>\n",
       "      <td>0.0</td>\n",
       "      <td>0.0</td>\n",
       "      <td>178.639363</td>\n",
       "      <td>-7.851750</td>\n",
       "      <td>13.510702</td>\n",
       "      <td>1.923400</td>\n",
       "      <td>15.816873</td>\n",
       "      <td>2.237088</td>\n",
       "    </tr>\n",
       "    <tr>\n",
       "      <th>4</th>\n",
       "      <td>Lucie_Charvatova</td>\n",
       "      <td>1.1</td>\n",
       "      <td>40</td>\n",
       "      <td>women</td>\n",
       "      <td>7.9</td>\n",
       "      <td>individual</td>\n",
       "      <td>2016-2017</td>\n",
       "      <td>2016-11-30</td>\n",
       "      <td>1.0</td>\n",
       "      <td>5.0</td>\n",
       "      <td>...</td>\n",
       "      <td>0.0</td>\n",
       "      <td>0.0</td>\n",
       "      <td>0.0</td>\n",
       "      <td>0.0</td>\n",
       "      <td>110.768851</td>\n",
       "      <td>-22.301713</td>\n",
       "      <td>13.471507</td>\n",
       "      <td>2.534512</td>\n",
       "      <td>15.746402</td>\n",
       "      <td>2.972536</td>\n",
       "    </tr>\n",
       "  </tbody>\n",
       "</table>\n",
       "<p>5 rows × 28 columns</p>\n",
       "</div>"
      ],
      "text/plain": [
       "            full_name  distance  Rank    sex  Behind      format     season  \\\n",
       "0     Dorothea_Wierer       1.1    30  women     0.0  individual  2016-2017   \n",
       "1    Kaisa_Makarainen       1.1    23  women     1.0  individual  2016-2017   \n",
       "2           Mari_Eder       1.1    63  women     1.8  individual  2016-2017   \n",
       "3  Gabriela_Koukalova       1.1    16  women     3.8  individual  2016-2017   \n",
       "4    Lucie_Charvatova       1.1    40  women     7.9  individual  2016-2017   \n",
       "\n",
       "         date  date_order  position  ...  gradient_back  gradient_standing  \\\n",
       "0  2016-11-30         1.0       1.0  ...            0.0                0.0   \n",
       "1  2016-11-30         1.0       2.0  ...            0.0                0.0   \n",
       "2  2016-11-30         1.0       3.0  ...            0.0                0.0   \n",
       "3  2016-11-30         1.0       4.0  ...            0.0                0.0   \n",
       "4  2016-11-30         1.0       5.0  ...            0.0                0.0   \n",
       "\n",
       "   gradient_prone  gradient_pos  behind_above  behind_below  standing_above  \\\n",
       "0             0.0           0.0    217.035531      0.000000       13.507138   \n",
       "1             0.0           0.0    209.589657     -0.950000       13.456853   \n",
       "2             0.0           0.0    205.531178     -2.432000       13.449124   \n",
       "3             0.0           0.0    178.639363     -7.851750       13.510702   \n",
       "4             0.0           0.0    110.768851    -22.301713       13.471507   \n",
       "\n",
       "   standing_below  prone_above  prone_below  \n",
       "0        0.000000    15.798079     0.000000  \n",
       "1        0.723128    15.749754     0.835813  \n",
       "2        1.369304    15.707010     1.622503  \n",
       "3        1.923400    15.816873     2.237088  \n",
       "4        2.534512    15.746402     2.972536  \n",
       "\n",
       "[5 rows x 28 columns]"
      ]
     },
     "execution_count": 4,
     "metadata": {},
     "output_type": "execute_result"
    }
   ],
   "source": [
    "data_df['Rank'] = data_df['Rank'].astype('int')\n",
    "data_df.head()"
   ]
  },
  {
   "cell_type": "code",
   "execution_count": null,
   "metadata": {},
   "outputs": [
    {
     "data": {
      "text/plain": [
       "Index(['full_name', 'distance', 'Rank', 'sex', 'Behind', 'format', 'season',\n",
       "       'date', 'date_order', 'position', 'km_to_go', 'standing_remaining',\n",
       "       'prone_remaining', 'probability_standing', 'probability_prone',\n",
       "       'all_mistakes_prone', 'all_mistakes_standing', 'back_from_median',\n",
       "       'gradient_back', 'gradient_standing', 'gradient_prone', 'gradient_pos',\n",
       "       'behind_above', 'behind_below', 'standing_above', 'standing_below',\n",
       "       'prone_above', 'prone_below'],\n",
       "      dtype='object')"
      ]
     },
     "execution_count": 5,
     "metadata": {},
     "output_type": "execute_result"
    }
   ],
   "source": [
    "data_df.columns"
   ]
  },
  {
   "cell_type": "code",
   "execution_count": null,
   "metadata": {},
   "outputs": [],
   "source": [
    "dict_map_sex = {'men': 1, 'women': 0}\n",
    "data_df['sex'] = data_df['sex'].map(dict_map_sex)\n",
    "\n",
    "dict_map_format = {'sprint' : 0, 'pursuit': 1, 'individual': 2, 'mass_start': 3, 'sprint_2': 0, 'pursuit_2': 1}\n",
    "data_df['format'] = data_df['format'].map(dict_map_format)\n",
    "\n",
    "def rank_transform(x):\n",
    "    if x == 1:\n",
    "        return 0\n",
    "    elif x == 2 or x == 3:\n",
    "        return 1\n",
    "    elif x > 3:\n",
    "        return 2\n",
    "\n",
    "data_df['Rank'] = data_df['Rank'].apply(rank_transform)"
   ]
  },
  {
   "cell_type": "code",
   "execution_count": null,
   "metadata": {},
   "outputs": [],
   "source": [
    "final_df = data_df[['season', 'Rank', 'distance', 'Behind', 'format', 'position', 'km_to_go', 'standing_remaining', 'prone_remaining', 'probability_standing',\\\n",
    "    'probability_prone', 'back_from_median', 'gradient_back', 'all_mistakes_prone', 'all_mistakes_standing', 'gradient_standing', 'gradient_prone',\\\n",
    "        'gradient_pos', 'behind_above', 'behind_below', 'standing_above', 'standing_below', 'prone_above', 'prone_below']]\n",
    "\n",
    "final_df_train = final_df[final_df['season'] != '2021-2022']\n",
    "final_df_test = final_df[final_df['season'] == '2021-2022']\n",
    "final_df_validation = final_df[final_df['season'] == '2020-2021']\n",
    "final_df_train_valid = final_df[(final_df['season'] != '2021-2022') & (final_df['season'] != '2020-2021')]\n",
    "\n"
   ]
  },
  {
   "cell_type": "code",
   "execution_count": null,
   "metadata": {},
   "outputs": [],
   "source": [
    "final_df_train = final_df_train.drop(['season'], axis = 1)\n",
    "final_df_test = final_df_test.drop(['season'], axis = 1)\n",
    "final_df_validation = final_df_validation.drop(['season'], axis = 1)\n",
    "final_df_train_valid = final_df_train_valid.drop(['season'], axis = 1)"
   ]
  },
  {
   "cell_type": "code",
   "execution_count": null,
   "metadata": {},
   "outputs": [],
   "source": [
    "weights = sklearn.utils.class_weight.compute_class_weight('balanced', classes = np.unique(final_df_train['Rank']), y = final_df_train['Rank'])"
   ]
  },
  {
   "cell_type": "code",
   "execution_count": null,
   "metadata": {},
   "outputs": [
    {
     "data": {
      "text/plain": [
       "array([24.42774086, 12.21387043,  0.34756148])"
      ]
     },
     "execution_count": 10,
     "metadata": {},
     "output_type": "execute_result"
    }
   ],
   "source": [
    "weights_dict = {'0': weights[0], '1': weights[1], '2': weights[2]}\n",
    "weights"
   ]
  },
  {
   "cell_type": "code",
   "execution_count": null,
   "metadata": {},
   "outputs": [],
   "source": [
    "final_df_test = final_df_test.drop(columns = ['distance'])\n",
    "final_df_train = final_df_train.drop(columns = ['distance'])"
   ]
  },
  {
   "cell_type": "code",
   "execution_count": 41,
   "metadata": {},
   "outputs": [
    {
     "name": "stdout",
     "output_type": "stream",
     "text": [
      "(264699, 21) (59733, 21)\n"
     ]
    }
   ],
   "source": [
    "print(final_df_train.iloc[:,1:].shape, final_df_test.iloc[:, 1:].shape)"
   ]
  },
  {
   "cell_type": "code",
   "execution_count": null,
   "metadata": {},
   "outputs": [],
   "source": [
    "\n",
    "RF_clf = RandomForestClassifier(max_depth=30, class_weight =  weights_dict, n_estimators=100, random_state=0, min_samples_leaf = 10)\n",
    "RF_clf.fit(final_df_train.iloc[:,1:], final_df_train.iloc[:,0].astype(str))\n",
    "\n",
    "train_err = 1 - RF_clf.score(final_df_train.iloc[:,1:], final_df_train.iloc[:,0].astype(str),\\\n",
    "     sample_weight = final_df_train['Rank'].astype(str).map(weights_dict))\n",
    "print(\"Training error = %1.3f\" % train_err)\n",
    "test_err = 1 - RF_clf.score(final_df_test.iloc[:,1:], final_df_test.iloc[:,0].astype(str),\\\n",
    "     sample_weight = final_df_test['Rank'].astype(str).map(weights_dict))\n",
    "print(\"Test error = %1.3f\" % test_err)\n",
    "\n",
    "# display features importances\n",
    "display(pd.DataFrame(data=np.array([RF_clf.feature_names_in_, RF_clf.feature_importances_]).T,\n",
    "                     columns=[\"feature names\", \"feature importance\"]).sort_values(by='feature importance', ascending=False))"
   ]
  },
  {
   "cell_type": "code",
   "execution_count": null,
   "metadata": {},
   "outputs": [],
   "source": [
    "final_predictions = RF_clf.predict(final_df_test.iloc[:,1:])"
   ]
  },
  {
   "cell_type": "code",
   "execution_count": null,
   "metadata": {},
   "outputs": [],
   "source": [
    "y_true = final_df_test.iloc[:,0].astype(str).values"
   ]
  },
  {
   "cell_type": "code",
   "execution_count": null,
   "metadata": {},
   "outputs": [],
   "source": [
    "y_diff = y_true.astype(int) - final_predictions.astype(int)"
   ]
  },
  {
   "cell_type": "code",
   "execution_count": null,
   "metadata": {},
   "outputs": [
    {
     "name": "stdout",
     "output_type": "stream",
     "text": [
      "The accuracy of the model is: 0.9492073058443407\n"
     ]
    }
   ],
   "source": [
    "print('The accuracy of the model is:', len(y_diff[y_diff == 0])/len(y_diff))"
   ]
  },
  {
   "cell_type": "code",
   "execution_count": null,
   "metadata": {},
   "outputs": [],
   "source": [
    "\n",
    "cm = metrics.confusion_matrix(y_true, final_predictions, normalize = 'true')\n",
    "label_names=['0' , '1', '2']"
   ]
  },
  {
   "cell_type": "code",
   "execution_count": 4,
   "metadata": {},
   "outputs": [],
   "source": [
    "from  matplotlib.colors import LinearSegmentedColormap\n",
    "cmap=LinearSegmentedColormap.from_list('rg',['ghostwhite', 'aliceblue', 'skyblue', 'cornflowerblue', 'royalblue', 'blue', 'navy'], N=256)"
   ]
  },
  {
   "cell_type": "code",
   "execution_count": null,
   "metadata": {},
   "outputs": [
    {
     "data": {
      "image/png": "[encoded data removed]",
      "text/plain": [
       "<Figure size 1080x504 with 2 Axes>"
      ]
     },
     "metadata": {
      "needs_background": "light"
     },
     "output_type": "display_data"
    }
   ],
   "source": [
    "\n",
    "fig, ax = plt.subplots(1, 1, figsize = (15, 7))\n",
    "\n",
    "disp = metrics.ConfusionMatrixDisplay(cm, display_labels=label_names)\n",
    "disp.plot(ax = ax, cmap = cmap)\n",
    "ax.set_ylabel('True label', fontsize = 20)\n",
    "ax.set_xlabel('Predicted label', fontsize = 20)\n",
    "ax.set_xticklabels(labels =label_names, rotation = 0, fontsize = 15)\n",
    "ax.set_yticklabels(labels =label_names, fontsize = 15)\n",
    "ax.set_title('Predictor\\'s confusion matrix', fontsize = 25)\n",
    "\n",
    "x, y, w, h = 0, 0, 1, 1\n",
    "\n",
    "\n",
    "\n",
    "for i in range(3):\n",
    "    ax.add_patch(Rectangle((x - 0.5, i - 0.5), w, h, fill=False, edgecolor='crimson', lw=4, clip_on=False, zorder = 2))\n",
    "    ax.add_patch(Rectangle((x + 1 - 0.5, i - 0.5), w, h, fill=False, edgecolor='crimson', lw=4, clip_on=False, zorder = 2))\n",
    "    ax.add_patch(Rectangle((x + 2 - 0.5, i - 0.5), w, h, fill=False, edgecolor='crimson', lw=4, clip_on=False, zorder = 2))\n",
    "\n",
    "for i in range(3):\n",
    "    ax.add_patch(Rectangle((x - 0.5, i - 0.5), w, h, fill=False, edgecolor='black', lw=6, clip_on=False, zorder = 1))\n",
    "    ax.add_patch(Rectangle((x + 1 - 0.5, i - 0.5), w, h, fill=False, edgecolor='black', lw=6, clip_on=False, zorder = 1))\n",
    "    ax.add_patch(Rectangle((x + 2 - 0.5, i - 0.5), w, h, fill=False, edgecolor='black', lw=6, clip_on=False, zorder = 1))\n",
    "\n",
    "\n",
    "ax.spines['right'].set_visible(False)\n",
    "ax.spines['top'].set_visible(False)\n",
    "ax.spines['bottom'].set_visible(False)\n",
    "ax.spines['left'].set_visible(False)\n",
    "plt.show()"
   ]
  },
  {
   "cell_type": "code",
   "execution_count": null,
   "metadata": {},
   "outputs": [
    {
     "name": "stdout",
     "output_type": "stream",
     "text": [
      "              precision    recall  f1-score   support\n",
      "\n",
      "           0       0.40      0.55      0.46       790\n",
      "           1       0.32      0.56      0.41      1580\n",
      "           2       0.99      0.97      0.98     57363\n",
      "\n",
      "    accuracy                           0.95     59733\n",
      "   macro avg       0.57      0.69      0.62     59733\n",
      "weighted avg       0.96      0.95      0.96     59733\n",
      "\n"
     ]
    }
   ],
   "source": [
    "from sklearn.metrics import classification_report\n",
    "print(classification_report(y_true, final_predictions, target_names = label_names))"
   ]
  },
  {
   "cell_type": "markdown",
   "metadata": {},
   "source": [
    "## Brief description of the results\n",
    "\n",
    "We can see, excpecially from the abve confusion matrix, how thr Random forest is really working in teh right direction. The following trends are indeed encouraging:\n",
    "\n",
    "- The model is able to predict the racers potside odium position with high accuracy:\n",
    "    this is indeed what we expect because most of our dataset is composed by biathletes that are far away from the top.\n",
    "\n",
    "<br/>\n",
    "\n",
    "- The model is able to predict both winner and podium positions with high enough accuracy:\n",
    "    in the discussion of this point just consider as a lot of times few features divide a winner from a podium racer and an athlete who finished in the top 3 versus on who arrives 4th or 5th. That is even more true if we look at early race predictions, where a lot of shooting and skiing is left to do.\n",
    "\n",
    "\n",
    "## Further developments\n",
    "\n",
    "What we do now is building on the previous results in order to fine tune the various parameters of a random forest classifier. \n",
    "We cjoose to do it using a validation set before finally re-training our final model on teh previously dìsed test set.\n",
    "\n",
    "Later in teh notebook we will also try out XGBoost, which is a gradient boosting algorithm, to see if it can improve the results."
   ]
  },
  {
   "cell_type": "markdown",
   "metadata": {},
   "source": [
    "### Setting up the grid search"
   ]
  },
  {
   "cell_type": "code",
   "execution_count": 5,
   "metadata": {},
   "outputs": [],
   "source": [
    "max_depths = [10, 20, 30]\n",
    "min_sample_splits = [2, 5, 10]\n",
    "min_smaple_leafs = [5, 10, 15]\n",
    "max_features = ['sqrt', None]\n",
    "\n",
    "all_models = []\n",
    "\n",
    "i = 0\n",
    "for depth in max_depths:\n",
    "    for split in min_sample_splits:\n",
    "        for leaf in min_smaple_leafs:\n",
    "            for feature in max_features:\n",
    "                all_models.append({'max_depth': depth, 'min_sample_split': split, 'min_sample_leaf': leaf, 'max_features': feature})\n",
    "                i += 1"
   ]
  },
  {
   "cell_type": "code",
   "execution_count": null,
   "metadata": {},
   "outputs": [
    {
     "name": "stderr",
     "output_type": "stream",
     "text": [
      "/var/folders/92/pt64shtn3fx70tf0m4ng91240000gn/T/ipykernel_1508/1568504899.py:12: FutureWarning: The frame.append method is deprecated and will be removed from pandas in a future version. Use pandas.concat instead.\n",
      "  random_forest_results = random_forest_results.append({'trainign_error': train_err, 'test_error': test_err, 'model': i},\\\n"
     ]
    },
    {
     "name": "stdout",
     "output_type": "stream",
     "text": [
      "1.8518518518518516 %\n"
     ]
    },
    {
     "name": "stderr",
     "output_type": "stream",
     "text": [
      "/var/folders/92/pt64shtn3fx70tf0m4ng91240000gn/T/ipykernel_1508/1568504899.py:12: FutureWarning: The frame.append method is deprecated and will be removed from pandas in a future version. Use pandas.concat instead.\n",
      "  random_forest_results = random_forest_results.append({'trainign_error': train_err, 'test_error': test_err, 'model': i},\\\n"
     ]
    },
    {
     "name": "stdout",
     "output_type": "stream",
     "text": [
      "3.7037037037037033 %\n"
     ]
    },
    {
     "name": "stderr",
     "output_type": "stream",
     "text": [
      "/var/folders/92/pt64shtn3fx70tf0m4ng91240000gn/T/ipykernel_1508/1568504899.py:12: FutureWarning: The frame.append method is deprecated and will be removed from pandas in a future version. Use pandas.concat instead.\n",
      "  random_forest_results = random_forest_results.append({'trainign_error': train_err, 'test_error': test_err, 'model': i},\\\n"
     ]
    },
    {
     "name": "stdout",
     "output_type": "stream",
     "text": [
      "5.555555555555555 %\n"
     ]
    },
    {
     "name": "stderr",
     "output_type": "stream",
     "text": [
      "/var/folders/92/pt64shtn3fx70tf0m4ng91240000gn/T/ipykernel_1508/1568504899.py:12: FutureWarning: The frame.append method is deprecated and will be removed from pandas in a future version. Use pandas.concat instead.\n",
      "  random_forest_results = random_forest_results.append({'trainign_error': train_err, 'test_error': test_err, 'model': i},\\\n"
     ]
    },
    {
     "name": "stdout",
     "output_type": "stream",
     "text": [
      "7.4074074074074066 %\n"
     ]
    },
    {
     "name": "stderr",
     "output_type": "stream",
     "text": [
      "/var/folders/92/pt64shtn3fx70tf0m4ng91240000gn/T/ipykernel_1508/1568504899.py:12: FutureWarning: The frame.append method is deprecated and will be removed from pandas in a future version. Use pandas.concat instead.\n",
      "  random_forest_results = random_forest_results.append({'trainign_error': train_err, 'test_error': test_err, 'model': i},\\\n"
     ]
    },
    {
     "name": "stdout",
     "output_type": "stream",
     "text": [
      "9.25925925925926 %\n"
     ]
    },
    {
     "name": "stderr",
     "output_type": "stream",
     "text": [
      "/var/folders/92/pt64shtn3fx70tf0m4ng91240000gn/T/ipykernel_1508/1568504899.py:12: FutureWarning: The frame.append method is deprecated and will be removed from pandas in a future version. Use pandas.concat instead.\n",
      "  random_forest_results = random_forest_results.append({'trainign_error': train_err, 'test_error': test_err, 'model': i},\\\n"
     ]
    },
    {
     "name": "stdout",
     "output_type": "stream",
     "text": [
      "11.11111111111111 %\n"
     ]
    },
    {
     "name": "stderr",
     "output_type": "stream",
     "text": [
      "/var/folders/92/pt64shtn3fx70tf0m4ng91240000gn/T/ipykernel_1508/1568504899.py:12: FutureWarning: The frame.append method is deprecated and will be removed from pandas in a future version. Use pandas.concat instead.\n",
      "  random_forest_results = random_forest_results.append({'trainign_error': train_err, 'test_error': test_err, 'model': i},\\\n"
     ]
    },
    {
     "name": "stdout",
     "output_type": "stream",
     "text": [
      "12.962962962962962 %\n"
     ]
    },
    {
     "name": "stderr",
     "output_type": "stream",
     "text": [
      "/var/folders/92/pt64shtn3fx70tf0m4ng91240000gn/T/ipykernel_1508/1568504899.py:12: FutureWarning: The frame.append method is deprecated and will be removed from pandas in a future version. Use pandas.concat instead.\n",
      "  random_forest_results = random_forest_results.append({'trainign_error': train_err, 'test_error': test_err, 'model': i},\\\n"
     ]
    },
    {
     "name": "stdout",
     "output_type": "stream",
     "text": [
      "14.814814814814813 %\n"
     ]
    },
    {
     "name": "stderr",
     "output_type": "stream",
     "text": [
      "/var/folders/92/pt64shtn3fx70tf0m4ng91240000gn/T/ipykernel_1508/1568504899.py:12: FutureWarning: The frame.append method is deprecated and will be removed from pandas in a future version. Use pandas.concat instead.\n",
      "  random_forest_results = random_forest_results.append({'trainign_error': train_err, 'test_error': test_err, 'model': i},\\\n"
     ]
    },
    {
     "name": "stdout",
     "output_type": "stream",
     "text": [
      "16.666666666666664 %\n"
     ]
    },
    {
     "name": "stderr",
     "output_type": "stream",
     "text": [
      "/var/folders/92/pt64shtn3fx70tf0m4ng91240000gn/T/ipykernel_1508/1568504899.py:12: FutureWarning: The frame.append method is deprecated and will be removed from pandas in a future version. Use pandas.concat instead.\n",
      "  random_forest_results = random_forest_results.append({'trainign_error': train_err, 'test_error': test_err, 'model': i},\\\n"
     ]
    },
    {
     "name": "stdout",
     "output_type": "stream",
     "text": [
      "18.51851851851852 %\n"
     ]
    },
    {
     "name": "stderr",
     "output_type": "stream",
     "text": [
      "/var/folders/92/pt64shtn3fx70tf0m4ng91240000gn/T/ipykernel_1508/1568504899.py:12: FutureWarning: The frame.append method is deprecated and will be removed from pandas in a future version. Use pandas.concat instead.\n",
      "  random_forest_results = random_forest_results.append({'trainign_error': train_err, 'test_error': test_err, 'model': i},\\\n"
     ]
    },
    {
     "name": "stdout",
     "output_type": "stream",
     "text": [
      "20.37037037037037 %\n"
     ]
    },
    {
     "name": "stderr",
     "output_type": "stream",
     "text": [
      "/var/folders/92/pt64shtn3fx70tf0m4ng91240000gn/T/ipykernel_1508/1568504899.py:12: FutureWarning: The frame.append method is deprecated and will be removed from pandas in a future version. Use pandas.concat instead.\n",
      "  random_forest_results = random_forest_results.append({'trainign_error': train_err, 'test_error': test_err, 'model': i},\\\n"
     ]
    },
    {
     "name": "stdout",
     "output_type": "stream",
     "text": [
      "22.22222222222222 %\n"
     ]
    },
    {
     "name": "stderr",
     "output_type": "stream",
     "text": [
      "/var/folders/92/pt64shtn3fx70tf0m4ng91240000gn/T/ipykernel_1508/1568504899.py:12: FutureWarning: The frame.append method is deprecated and will be removed from pandas in a future version. Use pandas.concat instead.\n",
      "  random_forest_results = random_forest_results.append({'trainign_error': train_err, 'test_error': test_err, 'model': i},\\\n"
     ]
    },
    {
     "name": "stdout",
     "output_type": "stream",
     "text": [
      "24.074074074074073 %\n"
     ]
    },
    {
     "name": "stderr",
     "output_type": "stream",
     "text": [
      "/var/folders/92/pt64shtn3fx70tf0m4ng91240000gn/T/ipykernel_1508/1568504899.py:12: FutureWarning: The frame.append method is deprecated and will be removed from pandas in a future version. Use pandas.concat instead.\n",
      "  random_forest_results = random_forest_results.append({'trainign_error': train_err, 'test_error': test_err, 'model': i},\\\n"
     ]
    },
    {
     "name": "stdout",
     "output_type": "stream",
     "text": [
      "25.925925925925924 %\n"
     ]
    },
    {
     "name": "stderr",
     "output_type": "stream",
     "text": [
      "/var/folders/92/pt64shtn3fx70tf0m4ng91240000gn/T/ipykernel_1508/1568504899.py:12: FutureWarning: The frame.append method is deprecated and will be removed from pandas in a future version. Use pandas.concat instead.\n",
      "  random_forest_results = random_forest_results.append({'trainign_error': train_err, 'test_error': test_err, 'model': i},\\\n"
     ]
    },
    {
     "name": "stdout",
     "output_type": "stream",
     "text": [
      "27.77777777777778 %\n"
     ]
    },
    {
     "name": "stderr",
     "output_type": "stream",
     "text": [
      "/var/folders/92/pt64shtn3fx70tf0m4ng91240000gn/T/ipykernel_1508/1568504899.py:12: FutureWarning: The frame.append method is deprecated and will be removed from pandas in a future version. Use pandas.concat instead.\n",
      "  random_forest_results = random_forest_results.append({'trainign_error': train_err, 'test_error': test_err, 'model': i},\\\n"
     ]
    },
    {
     "name": "stdout",
     "output_type": "stream",
     "text": [
      "29.629629629629626 %\n"
     ]
    },
    {
     "name": "stderr",
     "output_type": "stream",
     "text": [
      "/var/folders/92/pt64shtn3fx70tf0m4ng91240000gn/T/ipykernel_1508/1568504899.py:12: FutureWarning: The frame.append method is deprecated and will be removed from pandas in a future version. Use pandas.concat instead.\n",
      "  random_forest_results = random_forest_results.append({'trainign_error': train_err, 'test_error': test_err, 'model': i},\\\n"
     ]
    },
    {
     "name": "stdout",
     "output_type": "stream",
     "text": [
      "31.48148148148148 %\n"
     ]
    },
    {
     "name": "stderr",
     "output_type": "stream",
     "text": [
      "/var/folders/92/pt64shtn3fx70tf0m4ng91240000gn/T/ipykernel_1508/1568504899.py:12: FutureWarning: The frame.append method is deprecated and will be removed from pandas in a future version. Use pandas.concat instead.\n",
      "  random_forest_results = random_forest_results.append({'trainign_error': train_err, 'test_error': test_err, 'model': i},\\\n"
     ]
    },
    {
     "name": "stdout",
     "output_type": "stream",
     "text": [
      "33.33333333333333 %\n"
     ]
    },
    {
     "name": "stderr",
     "output_type": "stream",
     "text": [
      "/var/folders/92/pt64shtn3fx70tf0m4ng91240000gn/T/ipykernel_1508/1568504899.py:12: FutureWarning: The frame.append method is deprecated and will be removed from pandas in a future version. Use pandas.concat instead.\n",
      "  random_forest_results = random_forest_results.append({'trainign_error': train_err, 'test_error': test_err, 'model': i},\\\n"
     ]
    },
    {
     "name": "stdout",
     "output_type": "stream",
     "text": [
      "35.18518518518518 %\n"
     ]
    },
    {
     "name": "stderr",
     "output_type": "stream",
     "text": [
      "/var/folders/92/pt64shtn3fx70tf0m4ng91240000gn/T/ipykernel_1508/1568504899.py:12: FutureWarning: The frame.append method is deprecated and will be removed from pandas in a future version. Use pandas.concat instead.\n",
      "  random_forest_results = random_forest_results.append({'trainign_error': train_err, 'test_error': test_err, 'model': i},\\\n"
     ]
    },
    {
     "name": "stdout",
     "output_type": "stream",
     "text": [
      "37.03703703703704 %\n"
     ]
    },
    {
     "name": "stderr",
     "output_type": "stream",
     "text": [
      "/var/folders/92/pt64shtn3fx70tf0m4ng91240000gn/T/ipykernel_1508/1568504899.py:12: FutureWarning: The frame.append method is deprecated and will be removed from pandas in a future version. Use pandas.concat instead.\n",
      "  random_forest_results = random_forest_results.append({'trainign_error': train_err, 'test_error': test_err, 'model': i},\\\n"
     ]
    },
    {
     "name": "stdout",
     "output_type": "stream",
     "text": [
      "38.88888888888889 %\n"
     ]
    },
    {
     "name": "stderr",
     "output_type": "stream",
     "text": [
      "/var/folders/92/pt64shtn3fx70tf0m4ng91240000gn/T/ipykernel_1508/1568504899.py:12: FutureWarning: The frame.append method is deprecated and will be removed from pandas in a future version. Use pandas.concat instead.\n",
      "  random_forest_results = random_forest_results.append({'trainign_error': train_err, 'test_error': test_err, 'model': i},\\\n"
     ]
    },
    {
     "name": "stdout",
     "output_type": "stream",
     "text": [
      "40.74074074074074 %\n"
     ]
    },
    {
     "name": "stderr",
     "output_type": "stream",
     "text": [
      "/var/folders/92/pt64shtn3fx70tf0m4ng91240000gn/T/ipykernel_1508/1568504899.py:12: FutureWarning: The frame.append method is deprecated and will be removed from pandas in a future version. Use pandas.concat instead.\n",
      "  random_forest_results = random_forest_results.append({'trainign_error': train_err, 'test_error': test_err, 'model': i},\\\n"
     ]
    },
    {
     "name": "stdout",
     "output_type": "stream",
     "text": [
      "42.592592592592595 %\n"
     ]
    },
    {
     "name": "stderr",
     "output_type": "stream",
     "text": [
      "/var/folders/92/pt64shtn3fx70tf0m4ng91240000gn/T/ipykernel_1508/1568504899.py:12: FutureWarning: The frame.append method is deprecated and will be removed from pandas in a future version. Use pandas.concat instead.\n",
      "  random_forest_results = random_forest_results.append({'trainign_error': train_err, 'test_error': test_err, 'model': i},\\\n"
     ]
    },
    {
     "name": "stdout",
     "output_type": "stream",
     "text": [
      "44.44444444444444 %\n"
     ]
    },
    {
     "name": "stderr",
     "output_type": "stream",
     "text": [
      "/var/folders/92/pt64shtn3fx70tf0m4ng91240000gn/T/ipykernel_1508/1568504899.py:12: FutureWarning: The frame.append method is deprecated and will be removed from pandas in a future version. Use pandas.concat instead.\n",
      "  random_forest_results = random_forest_results.append({'trainign_error': train_err, 'test_error': test_err, 'model': i},\\\n"
     ]
    },
    {
     "name": "stdout",
     "output_type": "stream",
     "text": [
      "46.2962962962963 %\n"
     ]
    },
    {
     "name": "stderr",
     "output_type": "stream",
     "text": [
      "/var/folders/92/pt64shtn3fx70tf0m4ng91240000gn/T/ipykernel_1508/1568504899.py:12: FutureWarning: The frame.append method is deprecated and will be removed from pandas in a future version. Use pandas.concat instead.\n",
      "  random_forest_results = random_forest_results.append({'trainign_error': train_err, 'test_error': test_err, 'model': i},\\\n"
     ]
    },
    {
     "name": "stdout",
     "output_type": "stream",
     "text": [
      "48.148148148148145 %\n"
     ]
    },
    {
     "name": "stderr",
     "output_type": "stream",
     "text": [
      "/var/folders/92/pt64shtn3fx70tf0m4ng91240000gn/T/ipykernel_1508/1568504899.py:12: FutureWarning: The frame.append method is deprecated and will be removed from pandas in a future version. Use pandas.concat instead.\n",
      "  random_forest_results = random_forest_results.append({'trainign_error': train_err, 'test_error': test_err, 'model': i},\\\n"
     ]
    },
    {
     "name": "stdout",
     "output_type": "stream",
     "text": [
      "50.0 %\n"
     ]
    },
    {
     "name": "stderr",
     "output_type": "stream",
     "text": [
      "/var/folders/92/pt64shtn3fx70tf0m4ng91240000gn/T/ipykernel_1508/1568504899.py:12: FutureWarning: The frame.append method is deprecated and will be removed from pandas in a future version. Use pandas.concat instead.\n",
      "  random_forest_results = random_forest_results.append({'trainign_error': train_err, 'test_error': test_err, 'model': i},\\\n"
     ]
    },
    {
     "name": "stdout",
     "output_type": "stream",
     "text": [
      "51.85185185185185 %\n"
     ]
    },
    {
     "name": "stderr",
     "output_type": "stream",
     "text": [
      "/var/folders/92/pt64shtn3fx70tf0m4ng91240000gn/T/ipykernel_1508/1568504899.py:12: FutureWarning: The frame.append method is deprecated and will be removed from pandas in a future version. Use pandas.concat instead.\n",
      "  random_forest_results = random_forest_results.append({'trainign_error': train_err, 'test_error': test_err, 'model': i},\\\n"
     ]
    },
    {
     "name": "stdout",
     "output_type": "stream",
     "text": [
      "53.70370370370371 %\n"
     ]
    },
    {
     "name": "stderr",
     "output_type": "stream",
     "text": [
      "/var/folders/92/pt64shtn3fx70tf0m4ng91240000gn/T/ipykernel_1508/1568504899.py:12: FutureWarning: The frame.append method is deprecated and will be removed from pandas in a future version. Use pandas.concat instead.\n",
      "  random_forest_results = random_forest_results.append({'trainign_error': train_err, 'test_error': test_err, 'model': i},\\\n"
     ]
    },
    {
     "name": "stdout",
     "output_type": "stream",
     "text": [
      "55.55555555555556 %\n"
     ]
    },
    {
     "name": "stderr",
     "output_type": "stream",
     "text": [
      "/var/folders/92/pt64shtn3fx70tf0m4ng91240000gn/T/ipykernel_1508/1568504899.py:12: FutureWarning: The frame.append method is deprecated and will be removed from pandas in a future version. Use pandas.concat instead.\n",
      "  random_forest_results = random_forest_results.append({'trainign_error': train_err, 'test_error': test_err, 'model': i},\\\n"
     ]
    },
    {
     "name": "stdout",
     "output_type": "stream",
     "text": [
      "57.407407407407405 %\n"
     ]
    },
    {
     "name": "stderr",
     "output_type": "stream",
     "text": [
      "/var/folders/92/pt64shtn3fx70tf0m4ng91240000gn/T/ipykernel_1508/1568504899.py:12: FutureWarning: The frame.append method is deprecated and will be removed from pandas in a future version. Use pandas.concat instead.\n",
      "  random_forest_results = random_forest_results.append({'trainign_error': train_err, 'test_error': test_err, 'model': i},\\\n"
     ]
    },
    {
     "name": "stdout",
     "output_type": "stream",
     "text": [
      "59.25925925925925 %\n"
     ]
    },
    {
     "name": "stderr",
     "output_type": "stream",
     "text": [
      "/var/folders/92/pt64shtn3fx70tf0m4ng91240000gn/T/ipykernel_1508/1568504899.py:12: FutureWarning: The frame.append method is deprecated and will be removed from pandas in a future version. Use pandas.concat instead.\n",
      "  random_forest_results = random_forest_results.append({'trainign_error': train_err, 'test_error': test_err, 'model': i},\\\n"
     ]
    },
    {
     "name": "stdout",
     "output_type": "stream",
     "text": [
      "61.111111111111114 %\n"
     ]
    },
    {
     "name": "stderr",
     "output_type": "stream",
     "text": [
      "/var/folders/92/pt64shtn3fx70tf0m4ng91240000gn/T/ipykernel_1508/1568504899.py:12: FutureWarning: The frame.append method is deprecated and will be removed from pandas in a future version. Use pandas.concat instead.\n",
      "  random_forest_results = random_forest_results.append({'trainign_error': train_err, 'test_error': test_err, 'model': i},\\\n"
     ]
    },
    {
     "name": "stdout",
     "output_type": "stream",
     "text": [
      "62.96296296296296 %\n"
     ]
    },
    {
     "name": "stderr",
     "output_type": "stream",
     "text": [
      "/var/folders/92/pt64shtn3fx70tf0m4ng91240000gn/T/ipykernel_1508/1568504899.py:12: FutureWarning: The frame.append method is deprecated and will be removed from pandas in a future version. Use pandas.concat instead.\n",
      "  random_forest_results = random_forest_results.append({'trainign_error': train_err, 'test_error': test_err, 'model': i},\\\n"
     ]
    },
    {
     "name": "stdout",
     "output_type": "stream",
     "text": [
      "64.81481481481481 %\n"
     ]
    },
    {
     "name": "stderr",
     "output_type": "stream",
     "text": [
      "/var/folders/92/pt64shtn3fx70tf0m4ng91240000gn/T/ipykernel_1508/1568504899.py:12: FutureWarning: The frame.append method is deprecated and will be removed from pandas in a future version. Use pandas.concat instead.\n",
      "  random_forest_results = random_forest_results.append({'trainign_error': train_err, 'test_error': test_err, 'model': i},\\\n"
     ]
    },
    {
     "name": "stdout",
     "output_type": "stream",
     "text": [
      "66.66666666666666 %\n"
     ]
    },
    {
     "name": "stderr",
     "output_type": "stream",
     "text": [
      "/var/folders/92/pt64shtn3fx70tf0m4ng91240000gn/T/ipykernel_1508/1568504899.py:12: FutureWarning: The frame.append method is deprecated and will be removed from pandas in a future version. Use pandas.concat instead.\n",
      "  random_forest_results = random_forest_results.append({'trainign_error': train_err, 'test_error': test_err, 'model': i},\\\n"
     ]
    },
    {
     "name": "stdout",
     "output_type": "stream",
     "text": [
      "68.51851851851852 %\n"
     ]
    },
    {
     "name": "stderr",
     "output_type": "stream",
     "text": [
      "/var/folders/92/pt64shtn3fx70tf0m4ng91240000gn/T/ipykernel_1508/1568504899.py:12: FutureWarning: The frame.append method is deprecated and will be removed from pandas in a future version. Use pandas.concat instead.\n",
      "  random_forest_results = random_forest_results.append({'trainign_error': train_err, 'test_error': test_err, 'model': i},\\\n"
     ]
    },
    {
     "name": "stdout",
     "output_type": "stream",
     "text": [
      "70.37037037037037 %\n"
     ]
    },
    {
     "name": "stderr",
     "output_type": "stream",
     "text": [
      "/var/folders/92/pt64shtn3fx70tf0m4ng91240000gn/T/ipykernel_1508/1568504899.py:12: FutureWarning: The frame.append method is deprecated and will be removed from pandas in a future version. Use pandas.concat instead.\n",
      "  random_forest_results = random_forest_results.append({'trainign_error': train_err, 'test_error': test_err, 'model': i},\\\n"
     ]
    },
    {
     "name": "stdout",
     "output_type": "stream",
     "text": [
      "72.22222222222221 %\n"
     ]
    },
    {
     "name": "stderr",
     "output_type": "stream",
     "text": [
      "/var/folders/92/pt64shtn3fx70tf0m4ng91240000gn/T/ipykernel_1508/1568504899.py:12: FutureWarning: The frame.append method is deprecated and will be removed from pandas in a future version. Use pandas.concat instead.\n",
      "  random_forest_results = random_forest_results.append({'trainign_error': train_err, 'test_error': test_err, 'model': i},\\\n"
     ]
    },
    {
     "name": "stdout",
     "output_type": "stream",
     "text": [
      "74.07407407407408 %\n"
     ]
    },
    {
     "name": "stderr",
     "output_type": "stream",
     "text": [
      "/var/folders/92/pt64shtn3fx70tf0m4ng91240000gn/T/ipykernel_1508/1568504899.py:12: FutureWarning: The frame.append method is deprecated and will be removed from pandas in a future version. Use pandas.concat instead.\n",
      "  random_forest_results = random_forest_results.append({'trainign_error': train_err, 'test_error': test_err, 'model': i},\\\n"
     ]
    },
    {
     "name": "stdout",
     "output_type": "stream",
     "text": [
      "75.92592592592592 %\n"
     ]
    },
    {
     "name": "stderr",
     "output_type": "stream",
     "text": [
      "/var/folders/92/pt64shtn3fx70tf0m4ng91240000gn/T/ipykernel_1508/1568504899.py:12: FutureWarning: The frame.append method is deprecated and will be removed from pandas in a future version. Use pandas.concat instead.\n",
      "  random_forest_results = random_forest_results.append({'trainign_error': train_err, 'test_error': test_err, 'model': i},\\\n"
     ]
    },
    {
     "name": "stdout",
     "output_type": "stream",
     "text": [
      "77.77777777777779 %\n"
     ]
    },
    {
     "name": "stderr",
     "output_type": "stream",
     "text": [
      "/var/folders/92/pt64shtn3fx70tf0m4ng91240000gn/T/ipykernel_1508/1568504899.py:12: FutureWarning: The frame.append method is deprecated and will be removed from pandas in a future version. Use pandas.concat instead.\n",
      "  random_forest_results = random_forest_results.append({'trainign_error': train_err, 'test_error': test_err, 'model': i},\\\n"
     ]
    },
    {
     "name": "stdout",
     "output_type": "stream",
     "text": [
      "79.62962962962963 %\n"
     ]
    },
    {
     "name": "stderr",
     "output_type": "stream",
     "text": [
      "/var/folders/92/pt64shtn3fx70tf0m4ng91240000gn/T/ipykernel_1508/1568504899.py:12: FutureWarning: The frame.append method is deprecated and will be removed from pandas in a future version. Use pandas.concat instead.\n",
      "  random_forest_results = random_forest_results.append({'trainign_error': train_err, 'test_error': test_err, 'model': i},\\\n"
     ]
    },
    {
     "name": "stdout",
     "output_type": "stream",
     "text": [
      "81.48148148148148 %\n"
     ]
    },
    {
     "name": "stderr",
     "output_type": "stream",
     "text": [
      "/var/folders/92/pt64shtn3fx70tf0m4ng91240000gn/T/ipykernel_1508/1568504899.py:12: FutureWarning: The frame.append method is deprecated and will be removed from pandas in a future version. Use pandas.concat instead.\n",
      "  random_forest_results = random_forest_results.append({'trainign_error': train_err, 'test_error': test_err, 'model': i},\\\n"
     ]
    },
    {
     "name": "stdout",
     "output_type": "stream",
     "text": [
      "83.33333333333334 %\n"
     ]
    },
    {
     "name": "stderr",
     "output_type": "stream",
     "text": [
      "/var/folders/92/pt64shtn3fx70tf0m4ng91240000gn/T/ipykernel_1508/1568504899.py:12: FutureWarning: The frame.append method is deprecated and will be removed from pandas in a future version. Use pandas.concat instead.\n",
      "  random_forest_results = random_forest_results.append({'trainign_error': train_err, 'test_error': test_err, 'model': i},\\\n"
     ]
    },
    {
     "name": "stdout",
     "output_type": "stream",
     "text": [
      "85.18518518518519 %\n"
     ]
    },
    {
     "name": "stderr",
     "output_type": "stream",
     "text": [
      "/var/folders/92/pt64shtn3fx70tf0m4ng91240000gn/T/ipykernel_1508/1568504899.py:12: FutureWarning: The frame.append method is deprecated and will be removed from pandas in a future version. Use pandas.concat instead.\n",
      "  random_forest_results = random_forest_results.append({'trainign_error': train_err, 'test_error': test_err, 'model': i},\\\n"
     ]
    },
    {
     "name": "stdout",
     "output_type": "stream",
     "text": [
      "87.03703703703704 %\n"
     ]
    },
    {
     "name": "stderr",
     "output_type": "stream",
     "text": [
      "/var/folders/92/pt64shtn3fx70tf0m4ng91240000gn/T/ipykernel_1508/1568504899.py:12: FutureWarning: The frame.append method is deprecated and will be removed from pandas in a future version. Use pandas.concat instead.\n",
      "  random_forest_results = random_forest_results.append({'trainign_error': train_err, 'test_error': test_err, 'model': i},\\\n"
     ]
    },
    {
     "name": "stdout",
     "output_type": "stream",
     "text": [
      "88.88888888888889 %\n"
     ]
    },
    {
     "name": "stderr",
     "output_type": "stream",
     "text": [
      "/var/folders/92/pt64shtn3fx70tf0m4ng91240000gn/T/ipykernel_1508/1568504899.py:12: FutureWarning: The frame.append method is deprecated and will be removed from pandas in a future version. Use pandas.concat instead.\n",
      "  random_forest_results = random_forest_results.append({'trainign_error': train_err, 'test_error': test_err, 'model': i},\\\n"
     ]
    },
    {
     "name": "stdout",
     "output_type": "stream",
     "text": [
      "90.74074074074075 %\n"
     ]
    },
    {
     "name": "stderr",
     "output_type": "stream",
     "text": [
      "/var/folders/92/pt64shtn3fx70tf0m4ng91240000gn/T/ipykernel_1508/1568504899.py:12: FutureWarning: The frame.append method is deprecated and will be removed from pandas in a future version. Use pandas.concat instead.\n",
      "  random_forest_results = random_forest_results.append({'trainign_error': train_err, 'test_error': test_err, 'model': i},\\\n"
     ]
    },
    {
     "name": "stdout",
     "output_type": "stream",
     "text": [
      "92.5925925925926 %\n"
     ]
    },
    {
     "name": "stderr",
     "output_type": "stream",
     "text": [
      "/var/folders/92/pt64shtn3fx70tf0m4ng91240000gn/T/ipykernel_1508/1568504899.py:12: FutureWarning: The frame.append method is deprecated and will be removed from pandas in a future version. Use pandas.concat instead.\n",
      "  random_forest_results = random_forest_results.append({'trainign_error': train_err, 'test_error': test_err, 'model': i},\\\n"
     ]
    },
    {
     "name": "stdout",
     "output_type": "stream",
     "text": [
      "94.44444444444444 %\n"
     ]
    },
    {
     "name": "stderr",
     "output_type": "stream",
     "text": [
      "/var/folders/92/pt64shtn3fx70tf0m4ng91240000gn/T/ipykernel_1508/1568504899.py:12: FutureWarning: The frame.append method is deprecated and will be removed from pandas in a future version. Use pandas.concat instead.\n",
      "  random_forest_results = random_forest_results.append({'trainign_error': train_err, 'test_error': test_err, 'model': i},\\\n"
     ]
    },
    {
     "name": "stdout",
     "output_type": "stream",
     "text": [
      "96.29629629629629 %\n"
     ]
    },
    {
     "name": "stderr",
     "output_type": "stream",
     "text": [
      "/var/folders/92/pt64shtn3fx70tf0m4ng91240000gn/T/ipykernel_1508/1568504899.py:12: FutureWarning: The frame.append method is deprecated and will be removed from pandas in a future version. Use pandas.concat instead.\n",
      "  random_forest_results = random_forest_results.append({'trainign_error': train_err, 'test_error': test_err, 'model': i},\\\n"
     ]
    },
    {
     "name": "stdout",
     "output_type": "stream",
     "text": [
      "98.14814814814815 %\n",
      "100.0 %\n"
     ]
    },
    {
     "name": "stderr",
     "output_type": "stream",
     "text": [
      "/var/folders/92/pt64shtn3fx70tf0m4ng91240000gn/T/ipykernel_1508/1568504899.py:12: FutureWarning: The frame.append method is deprecated and will be removed from pandas in a future version. Use pandas.concat instead.\n",
      "  random_forest_results = random_forest_results.append({'trainign_error': train_err, 'test_error': test_err, 'model': i},\\\n"
     ]
    }
   ],
   "source": [
    "random_forest_results = pd.DataFrame(columns = ['trainign_error', 'test_error', 'model'])\n",
    "\n",
    "for i, model in enumerate(all_models):\n",
    "    RF_clf = RandomForestClassifier(max_depth=model['max_depth'], class_weight =  weights_dict, n_estimators=100,\\\n",
    "         random_state=0, min_samples_leaf = model['min_sample_leaf'], min_samples_split = model['min_sample_split'],\\\n",
    "             max_features = model['max_features'])\n",
    "    RF_clf.fit(final_df_train_valid.iloc[:,1:], final_df_train_valid.iloc[:,0].astype(str))\n",
    "    train_err = 1 - RF_clf.score(final_df_train_valid.iloc[:,1:], final_df_train_valid.iloc[:,0].astype(str),\\\n",
    "     sample_weight = final_df_train_valid['Rank'].astype(str).map(weights_dict))\n",
    "    test_err = 1 - RF_clf.score(final_df_validation.iloc[:,1:], final_df_validation.iloc[:,0].astype(str),\\\n",
    "     sample_weight = final_df_validation['Rank'].astype(str).map(weights_dict))\n",
    "    random_forest_results = random_forest_results.append({'trainign_error': train_err, 'test_error': test_err, 'model': i},\\\n",
    "         ignore_index = True)\n",
    "\n",
    "    print((i + 1) / len(all_models) * 100, '%') # printing progress \n",
    "\n",
    "    random_forest_results.to_csv('../data/random_forest_results.csv')"
   ]
  },
  {
   "cell_type": "code",
   "execution_count": null,
   "metadata": {},
   "outputs": [],
   "source": [
    "random_forest_results = pd.read_csv('../data/random_forest_results.csv')"
   ]
  },
  {
   "cell_type": "code",
   "execution_count": null,
   "metadata": {},
   "outputs": [
    {
     "data": {
      "text/html": [
       "<div>\n",
       "<style scoped>\n",
       "    .dataframe tbody tr th:only-of-type {\n",
       "        vertical-align: middle;\n",
       "    }\n",
       "\n",
       "    .dataframe tbody tr th {\n",
       "        vertical-align: top;\n",
       "    }\n",
       "\n",
       "    .dataframe thead th {\n",
       "        text-align: right;\n",
       "    }\n",
       "</style>\n",
       "<table border=\"1\" class=\"dataframe\">\n",
       "  <thead>\n",
       "    <tr style=\"text-align: right;\">\n",
       "      <th></th>\n",
       "      <th>Unnamed: 0</th>\n",
       "      <th>trainign_error</th>\n",
       "      <th>test_error</th>\n",
       "      <th>model</th>\n",
       "      <th>max_depth</th>\n",
       "      <th>min_sample_split</th>\n",
       "      <th>min_sample_leaf</th>\n",
       "      <th>max_features</th>\n",
       "    </tr>\n",
       "  </thead>\n",
       "  <tbody>\n",
       "    <tr>\n",
       "      <th>4</th>\n",
       "      <td>4</td>\n",
       "      <td>0.103356</td>\n",
       "      <td>0.233122</td>\n",
       "      <td>4</td>\n",
       "      <td>10</td>\n",
       "      <td>2</td>\n",
       "      <td>15</td>\n",
       "      <td>sqrt</td>\n",
       "    </tr>\n",
       "    <tr>\n",
       "      <th>16</th>\n",
       "      <td>16</td>\n",
       "      <td>0.103356</td>\n",
       "      <td>0.233122</td>\n",
       "      <td>16</td>\n",
       "      <td>10</td>\n",
       "      <td>10</td>\n",
       "      <td>15</td>\n",
       "      <td>sqrt</td>\n",
       "    </tr>\n",
       "    <tr>\n",
       "      <th>10</th>\n",
       "      <td>10</td>\n",
       "      <td>0.103356</td>\n",
       "      <td>0.233122</td>\n",
       "      <td>10</td>\n",
       "      <td>10</td>\n",
       "      <td>5</td>\n",
       "      <td>15</td>\n",
       "      <td>sqrt</td>\n",
       "    </tr>\n",
       "    <tr>\n",
       "      <th>14</th>\n",
       "      <td>14</td>\n",
       "      <td>0.094421</td>\n",
       "      <td>0.233257</td>\n",
       "      <td>14</td>\n",
       "      <td>10</td>\n",
       "      <td>10</td>\n",
       "      <td>10</td>\n",
       "      <td>sqrt</td>\n",
       "    </tr>\n",
       "    <tr>\n",
       "      <th>2</th>\n",
       "      <td>2</td>\n",
       "      <td>0.094421</td>\n",
       "      <td>0.233257</td>\n",
       "      <td>2</td>\n",
       "      <td>10</td>\n",
       "      <td>2</td>\n",
       "      <td>10</td>\n",
       "      <td>sqrt</td>\n",
       "    </tr>\n",
       "    <tr>\n",
       "      <th>8</th>\n",
       "      <td>8</td>\n",
       "      <td>0.094421</td>\n",
       "      <td>0.233257</td>\n",
       "      <td>8</td>\n",
       "      <td>10</td>\n",
       "      <td>5</td>\n",
       "      <td>10</td>\n",
       "      <td>sqrt</td>\n",
       "    </tr>\n",
       "    <tr>\n",
       "      <th>3</th>\n",
       "      <td>3</td>\n",
       "      <td>0.085900</td>\n",
       "      <td>0.238546</td>\n",
       "      <td>3</td>\n",
       "      <td>10</td>\n",
       "      <td>2</td>\n",
       "      <td>10</td>\n",
       "      <td>None</td>\n",
       "    </tr>\n",
       "    <tr>\n",
       "      <th>15</th>\n",
       "      <td>15</td>\n",
       "      <td>0.085900</td>\n",
       "      <td>0.238546</td>\n",
       "      <td>15</td>\n",
       "      <td>10</td>\n",
       "      <td>10</td>\n",
       "      <td>10</td>\n",
       "      <td>None</td>\n",
       "    </tr>\n",
       "    <tr>\n",
       "      <th>9</th>\n",
       "      <td>9</td>\n",
       "      <td>0.085900</td>\n",
       "      <td>0.238546</td>\n",
       "      <td>9</td>\n",
       "      <td>10</td>\n",
       "      <td>5</td>\n",
       "      <td>10</td>\n",
       "      <td>None</td>\n",
       "    </tr>\n",
       "    <tr>\n",
       "      <th>17</th>\n",
       "      <td>17</td>\n",
       "      <td>0.088424</td>\n",
       "      <td>0.238950</td>\n",
       "      <td>17</td>\n",
       "      <td>10</td>\n",
       "      <td>10</td>\n",
       "      <td>15</td>\n",
       "      <td>None</td>\n",
       "    </tr>\n",
       "  </tbody>\n",
       "</table>\n",
       "</div>"
      ],
      "text/plain": [
       "    Unnamed: 0  trainign_error  test_error  model  max_depth  \\\n",
       "4            4        0.103356    0.233122      4         10   \n",
       "16          16        0.103356    0.233122     16         10   \n",
       "10          10        0.103356    0.233122     10         10   \n",
       "14          14        0.094421    0.233257     14         10   \n",
       "2            2        0.094421    0.233257      2         10   \n",
       "8            8        0.094421    0.233257      8         10   \n",
       "3            3        0.085900    0.238546      3         10   \n",
       "15          15        0.085900    0.238546     15         10   \n",
       "9            9        0.085900    0.238546      9         10   \n",
       "17          17        0.088424    0.238950     17         10   \n",
       "\n",
       "    min_sample_split  min_sample_leaf max_features  \n",
       "4                  2               15         sqrt  \n",
       "16                10               15         sqrt  \n",
       "10                 5               15         sqrt  \n",
       "14                10               10         sqrt  \n",
       "2                  2               10         sqrt  \n",
       "8                  5               10         sqrt  \n",
       "3                  2               10         None  \n",
       "15                10               10         None  \n",
       "9                  5               10         None  \n",
       "17                10               15         None  "
      ]
     },
     "execution_count": 60,
     "metadata": {},
     "output_type": "execute_result"
    }
   ],
   "source": [
    "model_df = pd.DataFrame(all_models)\n",
    "model_df['model'] = model_df.index\n",
    "\n",
    "random_forest_results['model'] = random_forest_results['model'].astype(int)\n",
    "\n",
    "random_forest_df = pd.merge(random_forest_results, model_df, on = 'model', how = 'left')\n",
    "\n",
    "random_forest_df.sort_values(by = 'test_error', ascending = True).head(10)"
   ]
  },
  {
   "cell_type": "code",
   "execution_count": 7,
   "metadata": {},
   "outputs": [
    {
     "data": {
      "text/plain": [
       "{'max_depth': 10,\n",
       " 'min_sample_split': 2,\n",
       " 'min_sample_leaf': 15,\n",
       " 'max_features': 'sqrt'}"
      ]
     },
     "execution_count": 7,
     "metadata": {},
     "output_type": "execute_result"
    }
   ],
   "source": [
    "final_model = all_models[4]\n",
    "all_models[4]"
   ]
  },
  {
   "cell_type": "code",
   "execution_count": null,
   "metadata": {},
   "outputs": [],
   "source": []
  },
  {
   "cell_type": "code",
   "execution_count": null,
   "metadata": {},
   "outputs": [
    {
     "name": "stdout",
     "output_type": "stream",
     "text": [
      "Training error = 0.117\n",
      "Test error = 0.267\n"
     ]
    },
    {
     "data": {
      "text/html": [
       "<div>\n",
       "<style scoped>\n",
       "    .dataframe tbody tr th:only-of-type {\n",
       "        vertical-align: middle;\n",
       "    }\n",
       "\n",
       "    .dataframe tbody tr th {\n",
       "        vertical-align: top;\n",
       "    }\n",
       "\n",
       "    .dataframe thead th {\n",
       "        text-align: right;\n",
       "    }\n",
       "</style>\n",
       "<table border=\"1\" class=\"dataframe\">\n",
       "  <thead>\n",
       "    <tr style=\"text-align: right;\">\n",
       "      <th></th>\n",
       "      <th>feature names</th>\n",
       "      <th>feature importance</th>\n",
       "    </tr>\n",
       "  </thead>\n",
       "  <tbody>\n",
       "    <tr>\n",
       "      <th>16</th>\n",
       "      <td>behind_below</td>\n",
       "      <td>0.190856</td>\n",
       "    </tr>\n",
       "    <tr>\n",
       "      <th>2</th>\n",
       "      <td>position</td>\n",
       "      <td>0.126947</td>\n",
       "    </tr>\n",
       "    <tr>\n",
       "      <th>18</th>\n",
       "      <td>standing_below</td>\n",
       "      <td>0.126026</td>\n",
       "    </tr>\n",
       "    <tr>\n",
       "      <th>20</th>\n",
       "      <td>prone_below</td>\n",
       "      <td>0.123482</td>\n",
       "    </tr>\n",
       "    <tr>\n",
       "      <th>0</th>\n",
       "      <td>Behind</td>\n",
       "      <td>0.102859</td>\n",
       "    </tr>\n",
       "    <tr>\n",
       "      <th>8</th>\n",
       "      <td>back_from_median</td>\n",
       "      <td>0.100237</td>\n",
       "    </tr>\n",
       "    <tr>\n",
       "      <th>19</th>\n",
       "      <td>prone_above</td>\n",
       "      <td>0.025772</td>\n",
       "    </tr>\n",
       "    <tr>\n",
       "      <th>3</th>\n",
       "      <td>km_to_go</td>\n",
       "      <td>0.024428</td>\n",
       "    </tr>\n",
       "    <tr>\n",
       "      <th>17</th>\n",
       "      <td>standing_above</td>\n",
       "      <td>0.022532</td>\n",
       "    </tr>\n",
       "    <tr>\n",
       "      <th>6</th>\n",
       "      <td>probability_standing</td>\n",
       "      <td>0.020522</td>\n",
       "    </tr>\n",
       "    <tr>\n",
       "      <th>15</th>\n",
       "      <td>behind_above</td>\n",
       "      <td>0.019078</td>\n",
       "    </tr>\n",
       "    <tr>\n",
       "      <th>7</th>\n",
       "      <td>probability_prone</td>\n",
       "      <td>0.018831</td>\n",
       "    </tr>\n",
       "    <tr>\n",
       "      <th>12</th>\n",
       "      <td>gradient_standing</td>\n",
       "      <td>0.017287</td>\n",
       "    </tr>\n",
       "    <tr>\n",
       "      <th>9</th>\n",
       "      <td>gradient_back</td>\n",
       "      <td>0.016351</td>\n",
       "    </tr>\n",
       "    <tr>\n",
       "      <th>13</th>\n",
       "      <td>gradient_prone</td>\n",
       "      <td>0.015313</td>\n",
       "    </tr>\n",
       "    <tr>\n",
       "      <th>4</th>\n",
       "      <td>standing_remaining</td>\n",
       "      <td>0.015058</td>\n",
       "    </tr>\n",
       "    <tr>\n",
       "      <th>1</th>\n",
       "      <td>format</td>\n",
       "      <td>0.011754</td>\n",
       "    </tr>\n",
       "    <tr>\n",
       "      <th>14</th>\n",
       "      <td>gradient_pos</td>\n",
       "      <td>0.00852</td>\n",
       "    </tr>\n",
       "    <tr>\n",
       "      <th>5</th>\n",
       "      <td>prone_remaining</td>\n",
       "      <td>0.007696</td>\n",
       "    </tr>\n",
       "    <tr>\n",
       "      <th>10</th>\n",
       "      <td>all_mistakes_prone</td>\n",
       "      <td>0.003517</td>\n",
       "    </tr>\n",
       "    <tr>\n",
       "      <th>11</th>\n",
       "      <td>all_mistakes_standing</td>\n",
       "      <td>0.002934</td>\n",
       "    </tr>\n",
       "  </tbody>\n",
       "</table>\n",
       "</div>"
      ],
      "text/plain": [
       "            feature names feature importance\n",
       "16           behind_below           0.190856\n",
       "2                position           0.126947\n",
       "18         standing_below           0.126026\n",
       "20            prone_below           0.123482\n",
       "0                  Behind           0.102859\n",
       "8        back_from_median           0.100237\n",
       "19            prone_above           0.025772\n",
       "3                km_to_go           0.024428\n",
       "17         standing_above           0.022532\n",
       "6    probability_standing           0.020522\n",
       "15           behind_above           0.019078\n",
       "7       probability_prone           0.018831\n",
       "12      gradient_standing           0.017287\n",
       "9           gradient_back           0.016351\n",
       "13         gradient_prone           0.015313\n",
       "4      standing_remaining           0.015058\n",
       "1                  format           0.011754\n",
       "14           gradient_pos            0.00852\n",
       "5         prone_remaining           0.007696\n",
       "10     all_mistakes_prone           0.003517\n",
       "11  all_mistakes_standing           0.002934"
      ]
     },
     "metadata": {},
     "output_type": "display_data"
    }
   ],
   "source": [
    "RF_clf_final = RandomForestClassifier(max_depth=final_model['max_depth'], class_weight =  weights_dict, n_estimators=100,\\\n",
    "            random_state=0, min_samples_leaf = final_model['min_sample_leaf'], min_samples_split = final_model['min_sample_split'],\\\n",
    "                max_features = final_model['max_features'])\n",
    "\n",
    "RF_clf_final.fit(final_df_train.iloc[:,1:], final_df_train.iloc[:,0].astype(str))\n",
    "\n",
    "\n",
    "train_err = 1 - RF_clf_final.score(final_df_train.iloc[:,1:], final_df_train.iloc[:,0].astype(str),\\\n",
    "     sample_weight = final_df_train['Rank'].astype(str).map(weights_dict))\n",
    "print(\"Training error = %1.3f\" % train_err)\n",
    "test_err = 1 - RF_clf_final.score(final_df_test.iloc[:,1:], final_df_test.iloc[:,0].astype(str),\\\n",
    "     sample_weight = final_df_test['Rank'].astype(str).map(weights_dict))\n",
    "print(\"Test error = %1.3f\" % test_err)\n",
    "\n",
    "# display features importances\n",
    "display(pd.DataFrame(data=np.array([RF_clf_final.feature_names_in_, RF_clf_final.feature_importances_]).T,\n",
    "                     columns=[\"feature names\", \"feature importance\"]).sort_values(by='feature importance', ascending=False))"
   ]
  },
  {
   "cell_type": "code",
   "execution_count": null,
   "metadata": {},
   "outputs": [],
   "source": [
    "final_predictions = RF_clf_final.predict(final_df_test.iloc[:,1:])"
   ]
  },
  {
   "cell_type": "code",
   "execution_count": null,
   "metadata": {},
   "outputs": [],
   "source": [
    "y_true = final_df_test.iloc[:,0].astype(str).values"
   ]
  },
  {
   "cell_type": "code",
   "execution_count": null,
   "metadata": {},
   "outputs": [],
   "source": [
    "y_diff = y_true.astype(int) - final_predictions.astype(int)"
   ]
  },
  {
   "cell_type": "code",
   "execution_count": null,
   "metadata": {},
   "outputs": [
    {
     "name": "stdout",
     "output_type": "stream",
     "text": [
      "The accuracy of the model is: 0.8863609729965011\n"
     ]
    }
   ],
   "source": [
    "print('The accuracy of the model is:', len(y_diff[y_diff == 0])/len(y_diff))"
   ]
  },
  {
   "cell_type": "code",
   "execution_count": null,
   "metadata": {},
   "outputs": [],
   "source": [
    "cm = metrics.confusion_matrix(y_true, final_predictions, normalize = 'true')\n",
    "label_names=['0' , '1', '2']"
   ]
  },
  {
   "cell_type": "code",
   "execution_count": null,
   "metadata": {},
   "outputs": [
    {
     "data": {
      "image/png": "[encoded data removed]",
      "text/plain": [
       "<Figure size 1080x504 with 2 Axes>"
      ]
     },
     "metadata": {
      "needs_background": "light"
     },
     "output_type": "display_data"
    }
   ],
   "source": [
    "from matplotlib.patches import Rectangle\n",
    "fig, ax = plt.subplots(1, 1, figsize = (15, 7))\n",
    "\n",
    "disp = metrics.ConfusionMatrixDisplay(cm, display_labels=label_names)\n",
    "disp.plot(ax = ax, cmap = cmap)\n",
    "ax.set_ylabel('True label', fontsize = 20)\n",
    "ax.set_xlabel('Predicted label', fontsize = 20)\n",
    "ax.set_xticklabels(labels =label_names, rotation = 0, fontsize = 15)\n",
    "ax.set_yticklabels(labels =label_names, fontsize = 15)\n",
    "ax.set_title('Predictor\\'s confusion matrix', fontsize = 25)\n",
    "\n",
    "x, y, w, h = 0, 0, 1, 1\n",
    "\n",
    "\n",
    "\n",
    "for i in range(3):\n",
    "    ax.add_patch(Rectangle((x - 0.5, i - 0.5), w, h, fill=False, edgecolor='crimson', lw=4, clip_on=False, zorder = 2))\n",
    "    ax.add_patch(Rectangle((x + 1 - 0.5, i - 0.5), w, h, fill=False, edgecolor='crimson', lw=4, clip_on=False, zorder = 2))\n",
    "    ax.add_patch(Rectangle((x + 2 - 0.5, i - 0.5), w, h, fill=False, edgecolor='crimson', lw=4, clip_on=False, zorder = 2))\n",
    "\n",
    "for i in range(3):\n",
    "    ax.add_patch(Rectangle((x - 0.5, i - 0.5), w, h, fill=False, edgecolor='black', lw=6, clip_on=False, zorder = 1))\n",
    "    ax.add_patch(Rectangle((x + 1 - 0.5, i - 0.5), w, h, fill=False, edgecolor='black', lw=6, clip_on=False, zorder = 1))\n",
    "    ax.add_patch(Rectangle((x + 2 - 0.5, i - 0.5), w, h, fill=False, edgecolor='black', lw=6, clip_on=False, zorder = 1))\n",
    "\n",
    "\n",
    "ax.spines['right'].set_visible(False)\n",
    "ax.spines['top'].set_visible(False)\n",
    "ax.spines['bottom'].set_visible(False)\n",
    "ax.spines['left'].set_visible(False)\n",
    "plt.show()"
   ]
  },
  {
   "cell_type": "code",
   "execution_count": null,
   "metadata": {},
   "outputs": [
    {
     "name": "stdout",
     "output_type": "stream",
     "text": [
      "              precision    recall  f1-score   support\n",
      "\n",
      "           0       0.34      0.58      0.43       790\n",
      "           1       0.16      0.71      0.27      1580\n",
      "           2       1.00      0.90      0.94     57363\n",
      "\n",
      "    accuracy                           0.89     59733\n",
      "   macro avg       0.50      0.73      0.55     59733\n",
      "weighted avg       0.97      0.89      0.92     59733\n",
      "\n"
     ]
    }
   ],
   "source": [
    "print(classification_report(y_true, final_predictions, target_names = label_names))"
   ]
  },
  {
   "cell_type": "markdown",
   "metadata": {},
   "source": [
    "## XGBoost"
   ]
  },
  {
   "cell_type": "code",
   "execution_count": null,
   "metadata": {},
   "outputs": [],
   "source": [
    "regressor = xgb.XGBClassifier(\n",
    "    n_estimators=100,\n",
    "    reg_lambda=5,\n",
    "    gamma=0,\n",
    "    max_depth=20,\n",
    "    min_child_weight = 5,\n",
    ")"
   ]
  },
  {
   "cell_type": "code",
   "execution_count": null,
   "metadata": {},
   "outputs": [],
   "source": [
    "weights_df = pd.DataFrame(final_df_train.iloc[:, 0].astype(str).values, columns = ['labels'])\n",
    "weights_df['weights'] = weights_df['labels'].map(weights_dict) "
   ]
  },
  {
   "cell_type": "code",
   "execution_count": null,
   "metadata": {},
   "outputs": [
    {
     "name": "stderr",
     "output_type": "stream",
     "text": [
      "/Applications/anaconda3/envs/torch/lib/python3.8/site-packages/xgboost/sklearn.py:1224: UserWarning: The use of label encoder in XGBClassifier is deprecated and will be removed in a future release. To remove this warning, do the following: 1) Pass option use_label_encoder=False when constructing XGBClassifier object; and 2) Encode your labels (y) as integers starting with 0, i.e. 0, 1, 2, ..., [num_class - 1].\n",
      "  warnings.warn(label_encoder_deprecation_msg, UserWarning)\n"
     ]
    },
    {
     "name": "stdout",
     "output_type": "stream",
     "text": [
      "[17:46:27] WARNING: /var/folders/sy/f16zz6x50xz3113nwtb9bvq00000gp/T/abs_44tbtwf8c1/croots/recipe/xgboost-split_1659548960882/work/src/learner.cc:1115: Starting in XGBoost 1.3.0, the default evaluation metric used with the objective 'multi:softprob' was changed from 'merror' to 'mlogloss'. Explicitly set eval_metric if you'd like to restore the old behavior.\n"
     ]
    },
    {
     "data": {
      "text/html": [
       "<style>#sk-container-id-1 {color: black;background-color: white;}#sk-container-id-1 pre{padding: 0;}#sk-container-id-1 div.sk-toggleable {background-color: white;}#sk-container-id-1 label.sk-toggleable__label {cursor: pointer;display: block;width: 100%;margin-bottom: 0;padding: 0.3em;box-sizing: border-box;text-align: center;}#sk-container-id-1 label.sk-toggleable__label-arrow:before {content: \"▸\";float: left;margin-right: 0.25em;color: #696969;}#sk-container-id-1 label.sk-toggleable__label-arrow:hover:before {color: black;}#sk-container-id-1 div.sk-estimator:hover label.sk-toggleable__label-arrow:before {color: black;}#sk-container-id-1 div.sk-toggleable__content {max-height: 0;max-width: 0;overflow: hidden;text-align: left;background-color: #f0f8ff;}#sk-container-id-1 div.sk-toggleable__content pre {margin: 0.2em;color: black;border-radius: 0.25em;background-color: #f0f8ff;}#sk-container-id-1 input.sk-toggleable__control:checked~div.sk-toggleable__content {max-height: 200px;max-width: 100%;overflow: auto;}#sk-container-id-1 input.sk-toggleable__control:checked~label.sk-toggleable__label-arrow:before {content: \"▾\";}#sk-container-id-1 div.sk-estimator input.sk-toggleable__control:checked~label.sk-toggleable__label {background-color: #d4ebff;}#sk-container-id-1 div.sk-label input.sk-toggleable__control:checked~label.sk-toggleable__label {background-color: #d4ebff;}#sk-container-id-1 input.sk-hidden--visually {border: 0;clip: rect(1px 1px 1px 1px);clip: rect(1px, 1px, 1px, 1px);height: 1px;margin: -1px;overflow: hidden;padding: 0;position: absolute;width: 1px;}#sk-container-id-1 div.sk-estimator {font-family: monospace;background-color: #f0f8ff;border: 1px dotted black;border-radius: 0.25em;box-sizing: border-box;margin-bottom: 0.5em;}#sk-container-id-1 div.sk-estimator:hover {background-color: #d4ebff;}#sk-container-id-1 div.sk-parallel-item::after {content: \"\";width: 100%;border-bottom: 1px solid gray;flex-grow: 1;}#sk-container-id-1 div.sk-label:hover label.sk-toggleable__label {background-color: #d4ebff;}#sk-container-id-1 div.sk-serial::before {content: \"\";position: absolute;border-left: 1px solid gray;box-sizing: border-box;top: 0;bottom: 0;left: 50%;z-index: 0;}#sk-container-id-1 div.sk-serial {display: flex;flex-direction: column;align-items: center;background-color: white;padding-right: 0.2em;padding-left: 0.2em;position: relative;}#sk-container-id-1 div.sk-item {position: relative;z-index: 1;}#sk-container-id-1 div.sk-parallel {display: flex;align-items: stretch;justify-content: center;background-color: white;position: relative;}#sk-container-id-1 div.sk-item::before, #sk-container-id-1 div.sk-parallel-item::before {content: \"\";position: absolute;border-left: 1px solid gray;box-sizing: border-box;top: 0;bottom: 0;left: 50%;z-index: -1;}#sk-container-id-1 div.sk-parallel-item {display: flex;flex-direction: column;z-index: 1;position: relative;background-color: white;}#sk-container-id-1 div.sk-parallel-item:first-child::after {align-self: flex-end;width: 50%;}#sk-container-id-1 div.sk-parallel-item:last-child::after {align-self: flex-start;width: 50%;}#sk-container-id-1 div.sk-parallel-item:only-child::after {width: 0;}#sk-container-id-1 div.sk-dashed-wrapped {border: 1px dashed gray;margin: 0 0.4em 0.5em 0.4em;box-sizing: border-box;padding-bottom: 0.4em;background-color: white;}#sk-container-id-1 div.sk-label label {font-family: monospace;font-weight: bold;display: inline-block;line-height: 1.2em;}#sk-container-id-1 div.sk-label-container {text-align: center;}#sk-container-id-1 div.sk-container {/* jupyter's `normalize.less` sets `[hidden] { display: none; }` but bootstrap.min.css set `[hidden] { display: none !important; }` so we also need the `!important` here to be able to override the default hidden behavior on the sphinx rendered scikit-learn.org. See: https://github.com/scikit-learn/scikit-learn/issues/21755 */display: inline-block !important;position: relative;}#sk-container-id-1 div.sk-text-repr-fallback {display: none;}</style><div id=\"sk-container-id-1\" class=\"sk-top-container\"><div class=\"sk-text-repr-fallback\"><pre>XGBClassifier(base_score=0.5, booster=&#x27;gbtree&#x27;, colsample_bylevel=1,\n",
       "              colsample_bynode=1, colsample_bytree=1, enable_categorical=False,\n",
       "              gamma=0, gpu_id=-1, importance_type=None,\n",
       "              interaction_constraints=&#x27;&#x27;, learning_rate=0.300000012,\n",
       "              max_delta_step=0, max_depth=20, min_child_weight=5, missing=nan,\n",
       "              monotone_constraints=&#x27;()&#x27;, n_estimators=100, n_jobs=4,\n",
       "              num_parallel_tree=1, objective=&#x27;multi:softprob&#x27;, predictor=&#x27;auto&#x27;,\n",
       "              random_state=0, reg_alpha=0, reg_lambda=5, scale_pos_weight=None,\n",
       "              subsample=1, tree_method=&#x27;exact&#x27;, validate_parameters=1,\n",
       "              verbosity=None)</pre><b>In a Jupyter environment, please rerun this cell to show the HTML representation or trust the notebook. <br />On GitHub, the HTML representation is unable to render, please try loading this page with nbviewer.org.</b></div><div class=\"sk-container\" hidden><div class=\"sk-item\"><div class=\"sk-estimator sk-toggleable\"><input class=\"sk-toggleable__control sk-hidden--visually\" id=\"sk-estimator-id-1\" type=\"checkbox\" checked><label for=\"sk-estimator-id-1\" class=\"sk-toggleable__label sk-toggleable__label-arrow\">XGBClassifier</label><div class=\"sk-toggleable__content\"><pre>XGBClassifier(base_score=0.5, booster=&#x27;gbtree&#x27;, colsample_bylevel=1,\n",
       "              colsample_bynode=1, colsample_bytree=1, enable_categorical=False,\n",
       "              gamma=0, gpu_id=-1, importance_type=None,\n",
       "              interaction_constraints=&#x27;&#x27;, learning_rate=0.300000012,\n",
       "              max_delta_step=0, max_depth=20, min_child_weight=5, missing=nan,\n",
       "              monotone_constraints=&#x27;()&#x27;, n_estimators=100, n_jobs=4,\n",
       "              num_parallel_tree=1, objective=&#x27;multi:softprob&#x27;, predictor=&#x27;auto&#x27;,\n",
       "              random_state=0, reg_alpha=0, reg_lambda=5, scale_pos_weight=None,\n",
       "              subsample=1, tree_method=&#x27;exact&#x27;, validate_parameters=1,\n",
       "              verbosity=None)</pre></div></div></div></div></div>"
      ],
      "text/plain": [
       "XGBClassifier(base_score=0.5, booster='gbtree', colsample_bylevel=1,\n",
       "              colsample_bynode=1, colsample_bytree=1, enable_categorical=False,\n",
       "              gamma=0, gpu_id=-1, importance_type=None,\n",
       "              interaction_constraints='', learning_rate=0.300000012,\n",
       "              max_delta_step=0, max_depth=20, min_child_weight=5, missing=nan,\n",
       "              monotone_constraints='()', n_estimators=100, n_jobs=4,\n",
       "              num_parallel_tree=1, objective='multi:softprob', predictor='auto',\n",
       "              random_state=0, reg_alpha=0, reg_lambda=5, scale_pos_weight=None,\n",
       "              subsample=1, tree_method='exact', validate_parameters=1,\n",
       "              verbosity=None)"
      ]
     },
     "execution_count": 16,
     "metadata": {},
     "output_type": "execute_result"
    }
   ],
   "source": [
    "regressor.fit(np.array(final_df_train.iloc[:, 1:]), np.array(final_df_train.iloc[:,0].astype(str)), sample_weight = weights_df['weights'].values)"
   ]
  },
  {
   "cell_type": "code",
   "execution_count": null,
   "metadata": {},
   "outputs": [],
   "source": [
    "y_pred = regressor.predict(final_df_test.iloc[:,1:])"
   ]
  },
  {
   "cell_type": "code",
   "execution_count": null,
   "metadata": {},
   "outputs": [],
   "source": [
    "y_true = final_df_test.iloc[:,0].astype(str).values"
   ]
  },
  {
   "cell_type": "code",
   "execution_count": null,
   "metadata": {},
   "outputs": [],
   "source": [
    "y_diff = y_true.astype(int) - y_pred.astype(int)"
   ]
  },
  {
   "cell_type": "code",
   "execution_count": null,
   "metadata": {},
   "outputs": [
    {
     "name": "stdout",
     "output_type": "stream",
     "text": [
      "The accuracy of the model is: 0.9647598479902232\n"
     ]
    }
   ],
   "source": [
    "print('The accuracy of the model is:', len(y_diff[y_diff == 0])/len(y_diff))"
   ]
  },
  {
   "cell_type": "code",
   "execution_count": null,
   "metadata": {},
   "outputs": [
    {
     "name": "stdout",
     "output_type": "stream",
     "text": [
      "Training error = 0.000\n",
      "Test error = 0.415\n"
     ]
    }
   ],
   "source": [
    "train_err = 1 - regressor.score(final_df_train.iloc[:,1:], final_df_train.iloc[:,0].astype(str), sample_weight = weights_df['weights'].values)\n",
    "print(\"Training error = %1.3f\" % train_err)\n",
    "test_err = 1 - regressor.score(final_df_test.iloc[:,1:], final_df_test.iloc[:,0].astype(str), sample_weight = final_df_test.iloc[:,0].astype(str).map(weights_dict).values)\n",
    "print(\"Test error = %1.3f\" % test_err)"
   ]
  },
  {
   "cell_type": "code",
   "execution_count": null,
   "metadata": {},
   "outputs": [
    {
     "data": {
      "text/html": [
       "<div>\n",
       "<style scoped>\n",
       "    .dataframe tbody tr th:only-of-type {\n",
       "        vertical-align: middle;\n",
       "    }\n",
       "\n",
       "    .dataframe tbody tr th {\n",
       "        vertical-align: top;\n",
       "    }\n",
       "\n",
       "    .dataframe thead th {\n",
       "        text-align: right;\n",
       "    }\n",
       "</style>\n",
       "<table border=\"1\" class=\"dataframe\">\n",
       "  <thead>\n",
       "    <tr style=\"text-align: right;\">\n",
       "      <th></th>\n",
       "      <th>0</th>\n",
       "    </tr>\n",
       "  </thead>\n",
       "  <tbody>\n",
       "    <tr>\n",
       "      <th>behind_below</th>\n",
       "      <td>0.255528</td>\n",
       "    </tr>\n",
       "    <tr>\n",
       "      <th>prone_below</th>\n",
       "      <td>0.183470</td>\n",
       "    </tr>\n",
       "    <tr>\n",
       "      <th>standing_remaining</th>\n",
       "      <td>0.125545</td>\n",
       "    </tr>\n",
       "    <tr>\n",
       "      <th>position</th>\n",
       "      <td>0.086830</td>\n",
       "    </tr>\n",
       "    <tr>\n",
       "      <th>Behind</th>\n",
       "      <td>0.044889</td>\n",
       "    </tr>\n",
       "    <tr>\n",
       "      <th>standing_below</th>\n",
       "      <td>0.039423</td>\n",
       "    </tr>\n",
       "    <tr>\n",
       "      <th>back_from_median</th>\n",
       "      <td>0.030072</td>\n",
       "    </tr>\n",
       "    <tr>\n",
       "      <th>all_mistakes_prone</th>\n",
       "      <td>0.024439</td>\n",
       "    </tr>\n",
       "    <tr>\n",
       "      <th>all_mistakes_standing</th>\n",
       "      <td>0.021431</td>\n",
       "    </tr>\n",
       "    <tr>\n",
       "      <th>format</th>\n",
       "      <td>0.020523</td>\n",
       "    </tr>\n",
       "    <tr>\n",
       "      <th>behind_above</th>\n",
       "      <td>0.019764</td>\n",
       "    </tr>\n",
       "    <tr>\n",
       "      <th>probability_standing</th>\n",
       "      <td>0.019394</td>\n",
       "    </tr>\n",
       "    <tr>\n",
       "      <th>gradient_back</th>\n",
       "      <td>0.016846</td>\n",
       "    </tr>\n",
       "    <tr>\n",
       "      <th>gradient_standing</th>\n",
       "      <td>0.016588</td>\n",
       "    </tr>\n",
       "    <tr>\n",
       "      <th>probability_prone</th>\n",
       "      <td>0.016160</td>\n",
       "    </tr>\n",
       "    <tr>\n",
       "      <th>gradient_prone</th>\n",
       "      <td>0.015313</td>\n",
       "    </tr>\n",
       "    <tr>\n",
       "      <th>km_to_go</th>\n",
       "      <td>0.015227</td>\n",
       "    </tr>\n",
       "    <tr>\n",
       "      <th>prone_remaining</th>\n",
       "      <td>0.014088</td>\n",
       "    </tr>\n",
       "    <tr>\n",
       "      <th>prone_above</th>\n",
       "      <td>0.013116</td>\n",
       "    </tr>\n",
       "    <tr>\n",
       "      <th>standing_above</th>\n",
       "      <td>0.011756</td>\n",
       "    </tr>\n",
       "    <tr>\n",
       "      <th>gradient_pos</th>\n",
       "      <td>0.009597</td>\n",
       "    </tr>\n",
       "  </tbody>\n",
       "</table>\n",
       "</div>"
      ],
      "text/plain": [
       "                              0\n",
       "behind_below           0.255528\n",
       "prone_below            0.183470\n",
       "standing_remaining     0.125545\n",
       "position               0.086830\n",
       "Behind                 0.044889\n",
       "standing_below         0.039423\n",
       "back_from_median       0.030072\n",
       "all_mistakes_prone     0.024439\n",
       "all_mistakes_standing  0.021431\n",
       "format                 0.020523\n",
       "behind_above           0.019764\n",
       "probability_standing   0.019394\n",
       "gradient_back          0.016846\n",
       "gradient_standing      0.016588\n",
       "probability_prone      0.016160\n",
       "gradient_prone         0.015313\n",
       "km_to_go               0.015227\n",
       "prone_remaining        0.014088\n",
       "prone_above            0.013116\n",
       "standing_above         0.011756\n",
       "gradient_pos           0.009597"
      ]
     },
     "execution_count": 22,
     "metadata": {},
     "output_type": "execute_result"
    }
   ],
   "source": [
    "pd.DataFrame(regressor.feature_importances_.reshape(1, -1), columns = final_df_train.iloc[:, 1:].columns).T.sort_values(by = 0, ascending = False)"
   ]
  },
  {
   "cell_type": "code",
   "execution_count": null,
   "metadata": {},
   "outputs": [],
   "source": [
    "\n",
    "cm = metrics.confusion_matrix(y_true, y_pred, normalize = 'true')\n",
    "label_names=['0' , '1', '2']"
   ]
  },
  {
   "cell_type": "code",
   "execution_count": null,
   "metadata": {},
   "outputs": [
    {
     "data": {
      "image/png": "[encoded data removed]",
      "text/plain": [
       "<Figure size 1080x504 with 2 Axes>"
      ]
     },
     "metadata": {
      "needs_background": "light"
     },
     "output_type": "display_data"
    }
   ],
   "source": [
    "from matplotlib.patches import Rectangle\n",
    "fig, ax = plt.subplots(1, 1, figsize = (15, 7))\n",
    "\n",
    "disp = metrics.ConfusionMatrixDisplay(cm, display_labels=label_names)\n",
    "disp.plot(ax = ax, cmap = cmap)\n",
    "ax.set_ylabel('True label', fontsize = 20)\n",
    "ax.set_xlabel('Predicted label', fontsize = 20)\n",
    "ax.set_xticklabels(labels =label_names, rotation = 0, fontsize = 15)\n",
    "ax.set_yticklabels(labels =label_names, fontsize = 15)\n",
    "ax.set_title('Predictor\\'s confusion matrix', fontsize = 25)\n",
    "\n",
    "x, y, w, h = 0, 0, 1, 1\n",
    "\n",
    "\n",
    "\n",
    "for i in range(3):\n",
    "    ax.add_patch(Rectangle((x - 0.5, i - 0.5), w, h, fill=False, edgecolor='crimson', lw=4, clip_on=False, zorder = 2))\n",
    "    ax.add_patch(Rectangle((x + 1 - 0.5, i - 0.5), w, h, fill=False, edgecolor='crimson', lw=4, clip_on=False, zorder = 2))\n",
    "    ax.add_patch(Rectangle((x + 2 - 0.5, i - 0.5), w, h, fill=False, edgecolor='crimson', lw=4, clip_on=False, zorder = 2))\n",
    "\n",
    "for i in range(3):\n",
    "    ax.add_patch(Rectangle((x - 0.5, i - 0.5), w, h, fill=False, edgecolor='black', lw=6, clip_on=False, zorder = 1))\n",
    "    ax.add_patch(Rectangle((x + 1 - 0.5, i - 0.5), w, h, fill=False, edgecolor='black', lw=6, clip_on=False, zorder = 1))\n",
    "    ax.add_patch(Rectangle((x + 2 - 0.5, i - 0.5), w, h, fill=False, edgecolor='black', lw=6, clip_on=False, zorder = 1))\n",
    "\n",
    "\n",
    "ax.spines['right'].set_visible(False)\n",
    "ax.spines['top'].set_visible(False)\n",
    "ax.spines['bottom'].set_visible(False)\n",
    "ax.spines['left'].set_visible(False)\n",
    "plt.show()"
   ]
  },
  {
   "cell_type": "markdown",
   "metadata": {},
   "source": [
    "## Results discussion\n",
    "\n",
    "From the aboce confusion matrix we can notice significant differences in performances with respect to our Random Forest Classifier.\n",
    "For example we see, and this can also be witnessed from the training and test error, a certain amount of overfitting with the model clasfiying the outside the podiums positions very well (probably due to their prevalence in the dataset) but not so well the top positions.\n",
    "\n",
    "<br/>\n",
    "\n",
    "The purpose of the grid search though will be that of finding the best parameters for our model, in relatin to the process of finding the lowest possible validation error."
   ]
  },
  {
   "cell_type": "code",
   "execution_count": 14,
   "metadata": {},
   "outputs": [],
   "source": [
    "import itertools\n",
    "max_dephts = [5, 10, 15]\n",
    "learning_rates = [0.001, 0.1, 0.2, 0.3]\n",
    "min_child_weights = [5, 10, 15]\n",
    "reg_lambdas = [0, 0.001, 0.0001, 0.1]\n",
    "\n",
    "all_models = list(itertools.product(max_dephts, learning_rates, min_child_weights, reg_lambdas))"
   ]
  },
  {
   "cell_type": "code",
   "execution_count": 15,
   "metadata": {},
   "outputs": [],
   "source": [
    "import itertools\n",
    "list_models = list(map(lambda x: {'depth':x[0], 'rate':x[1], 'weight': x[2], 'lambdas': x[3]},\\\n",
    "     itertools.product(max_dephts, learning_rates, min_child_weights, reg_lambdas)))"
   ]
  },
  {
   "cell_type": "markdown",
   "metadata": {},
   "source": []
  },
  {
   "cell_type": "code",
   "execution_count": 18,
   "metadata": {},
   "outputs": [
    {
     "data": {
      "text/html": [
       "<div>\n",
       "<style scoped>\n",
       "    .dataframe tbody tr th:only-of-type {\n",
       "        vertical-align: middle;\n",
       "    }\n",
       "\n",
       "    .dataframe tbody tr th {\n",
       "        vertical-align: top;\n",
       "    }\n",
       "\n",
       "    .dataframe thead th {\n",
       "        text-align: right;\n",
       "    }\n",
       "</style>\n",
       "<table border=\"1\" class=\"dataframe\">\n",
       "  <thead>\n",
       "    <tr style=\"text-align: right;\">\n",
       "      <th></th>\n",
       "      <th>Unnamed: 0</th>\n",
       "      <th>depth</th>\n",
       "      <th>rate</th>\n",
       "      <th>weight</th>\n",
       "      <th>lambdas</th>\n",
       "      <th>model</th>\n",
       "      <th>test_error</th>\n",
       "      <th>training_error</th>\n",
       "    </tr>\n",
       "  </thead>\n",
       "  <tbody>\n",
       "    <tr>\n",
       "      <th>0</th>\n",
       "      <td>0</td>\n",
       "      <td>NaN</td>\n",
       "      <td>NaN</td>\n",
       "      <td>NaN</td>\n",
       "      <td>NaN</td>\n",
       "      <td>0.0</td>\n",
       "      <td>0.236917</td>\n",
       "      <td>0.195870</td>\n",
       "    </tr>\n",
       "    <tr>\n",
       "      <th>1</th>\n",
       "      <td>1</td>\n",
       "      <td>NaN</td>\n",
       "      <td>NaN</td>\n",
       "      <td>NaN</td>\n",
       "      <td>NaN</td>\n",
       "      <td>1.0</td>\n",
       "      <td>0.236917</td>\n",
       "      <td>0.195870</td>\n",
       "    </tr>\n",
       "    <tr>\n",
       "      <th>2</th>\n",
       "      <td>2</td>\n",
       "      <td>NaN</td>\n",
       "      <td>NaN</td>\n",
       "      <td>NaN</td>\n",
       "      <td>NaN</td>\n",
       "      <td>2.0</td>\n",
       "      <td>0.236917</td>\n",
       "      <td>0.195870</td>\n",
       "    </tr>\n",
       "    <tr>\n",
       "      <th>3</th>\n",
       "      <td>3</td>\n",
       "      <td>NaN</td>\n",
       "      <td>NaN</td>\n",
       "      <td>NaN</td>\n",
       "      <td>NaN</td>\n",
       "      <td>3.0</td>\n",
       "      <td>0.236956</td>\n",
       "      <td>0.195873</td>\n",
       "    </tr>\n",
       "    <tr>\n",
       "      <th>4</th>\n",
       "      <td>4</td>\n",
       "      <td>NaN</td>\n",
       "      <td>NaN</td>\n",
       "      <td>NaN</td>\n",
       "      <td>NaN</td>\n",
       "      <td>4.0</td>\n",
       "      <td>0.236917</td>\n",
       "      <td>0.195870</td>\n",
       "    </tr>\n",
       "    <tr>\n",
       "      <th>...</th>\n",
       "      <td>...</td>\n",
       "      <td>...</td>\n",
       "      <td>...</td>\n",
       "      <td>...</td>\n",
       "      <td>...</td>\n",
       "      <td>...</td>\n",
       "      <td>...</td>\n",
       "      <td>...</td>\n",
       "    </tr>\n",
       "    <tr>\n",
       "      <th>110</th>\n",
       "      <td>110</td>\n",
       "      <td>NaN</td>\n",
       "      <td>NaN</td>\n",
       "      <td>NaN</td>\n",
       "      <td>NaN</td>\n",
       "      <td>110.0</td>\n",
       "      <td>0.365551</td>\n",
       "      <td>0.000220</td>\n",
       "    </tr>\n",
       "    <tr>\n",
       "      <th>111</th>\n",
       "      <td>111</td>\n",
       "      <td>NaN</td>\n",
       "      <td>NaN</td>\n",
       "      <td>NaN</td>\n",
       "      <td>NaN</td>\n",
       "      <td>111.0</td>\n",
       "      <td>0.365721</td>\n",
       "      <td>0.000242</td>\n",
       "    </tr>\n",
       "    <tr>\n",
       "      <th>112</th>\n",
       "      <td>112</td>\n",
       "      <td>NaN</td>\n",
       "      <td>NaN</td>\n",
       "      <td>NaN</td>\n",
       "      <td>NaN</td>\n",
       "      <td>112.0</td>\n",
       "      <td>0.352049</td>\n",
       "      <td>0.000753</td>\n",
       "    </tr>\n",
       "    <tr>\n",
       "      <th>113</th>\n",
       "      <td>113</td>\n",
       "      <td>NaN</td>\n",
       "      <td>NaN</td>\n",
       "      <td>NaN</td>\n",
       "      <td>NaN</td>\n",
       "      <td>113.0</td>\n",
       "      <td>0.357083</td>\n",
       "      <td>0.000703</td>\n",
       "    </tr>\n",
       "    <tr>\n",
       "      <th>114</th>\n",
       "      <td>114</td>\n",
       "      <td>NaN</td>\n",
       "      <td>NaN</td>\n",
       "      <td>NaN</td>\n",
       "      <td>NaN</td>\n",
       "      <td>114.0</td>\n",
       "      <td>0.351009</td>\n",
       "      <td>0.000721</td>\n",
       "    </tr>\n",
       "  </tbody>\n",
       "</table>\n",
       "<p>115 rows × 8 columns</p>\n",
       "</div>"
      ],
      "text/plain": [
       "     Unnamed: 0  depth  rate  weight  lambdas  model  test_error  \\\n",
       "0             0    NaN   NaN     NaN      NaN    0.0    0.236917   \n",
       "1             1    NaN   NaN     NaN      NaN    1.0    0.236917   \n",
       "2             2    NaN   NaN     NaN      NaN    2.0    0.236917   \n",
       "3             3    NaN   NaN     NaN      NaN    3.0    0.236956   \n",
       "4             4    NaN   NaN     NaN      NaN    4.0    0.236917   \n",
       "..          ...    ...   ...     ...      ...    ...         ...   \n",
       "110         110    NaN   NaN     NaN      NaN  110.0    0.365551   \n",
       "111         111    NaN   NaN     NaN      NaN  111.0    0.365721   \n",
       "112         112    NaN   NaN     NaN      NaN  112.0    0.352049   \n",
       "113         113    NaN   NaN     NaN      NaN  113.0    0.357083   \n",
       "114         114    NaN   NaN     NaN      NaN  114.0    0.351009   \n",
       "\n",
       "     training_error  \n",
       "0          0.195870  \n",
       "1          0.195870  \n",
       "2          0.195870  \n",
       "3          0.195873  \n",
       "4          0.195870  \n",
       "..              ...  \n",
       "110        0.000220  \n",
       "111        0.000242  \n",
       "112        0.000753  \n",
       "113        0.000703  \n",
       "114        0.000721  \n",
       "\n",
       "[115 rows x 8 columns]"
      ]
     },
     "execution_count": 18,
     "metadata": {},
     "output_type": "execute_result"
    }
   ],
   "source": [
    "xgboost_results = pd.read_csv('../data/xgb_results.csv')\n",
    "xgboost_results"
   ]
  },
  {
   "cell_type": "code",
   "execution_count": 19,
   "metadata": {},
   "outputs": [],
   "source": [
    "import warnings\n",
    "warnings.filterwarnings('ignore')"
   ]
  },
  {
   "cell_type": "code",
   "execution_count": 20,
   "metadata": {},
   "outputs": [
    {
     "name": "stdout",
     "output_type": "stream",
     "text": [
      "[08:43:20] WARNING: /var/folders/sy/f16zz6x50xz3113nwtb9bvq00000gp/T/abs_44tbtwf8c1/croots/recipe/xgboost-split_1659548960882/work/src/learner.cc:1115: Starting in XGBoost 1.3.0, the default evaluation metric used with the objective 'multi:softprob' was changed from 'merror' to 'mlogloss'. Explicitly set eval_metric if you'd like to restore the old behavior.\n",
      "80.56 %\n",
      "[08:46:25] WARNING: /var/folders/sy/f16zz6x50xz3113nwtb9bvq00000gp/T/abs_44tbtwf8c1/croots/recipe/xgboost-split_1659548960882/work/src/learner.cc:1115: Starting in XGBoost 1.3.0, the default evaluation metric used with the objective 'multi:softprob' was changed from 'merror' to 'mlogloss'. Explicitly set eval_metric if you'd like to restore the old behavior.\n",
      "81.25 %\n",
      "[08:49:45] WARNING: /var/folders/sy/f16zz6x50xz3113nwtb9bvq00000gp/T/abs_44tbtwf8c1/croots/recipe/xgboost-split_1659548960882/work/src/learner.cc:1115: Starting in XGBoost 1.3.0, the default evaluation metric used with the objective 'multi:softprob' was changed from 'merror' to 'mlogloss'. Explicitly set eval_metric if you'd like to restore the old behavior.\n",
      "81.94 %\n",
      "[08:52:52] WARNING: /var/folders/sy/f16zz6x50xz3113nwtb9bvq00000gp/T/abs_44tbtwf8c1/croots/recipe/xgboost-split_1659548960882/work/src/learner.cc:1115: Starting in XGBoost 1.3.0, the default evaluation metric used with the objective 'multi:softprob' was changed from 'merror' to 'mlogloss'. Explicitly set eval_metric if you'd like to restore the old behavior.\n",
      "82.64 %\n",
      "[08:56:05] WARNING: /var/folders/sy/f16zz6x50xz3113nwtb9bvq00000gp/T/abs_44tbtwf8c1/croots/recipe/xgboost-split_1659548960882/work/src/learner.cc:1115: Starting in XGBoost 1.3.0, the default evaluation metric used with the objective 'multi:softprob' was changed from 'merror' to 'mlogloss'. Explicitly set eval_metric if you'd like to restore the old behavior.\n",
      "83.33 %\n",
      "[08:59:00] WARNING: /var/folders/sy/f16zz6x50xz3113nwtb9bvq00000gp/T/abs_44tbtwf8c1/croots/recipe/xgboost-split_1659548960882/work/src/learner.cc:1115: Starting in XGBoost 1.3.0, the default evaluation metric used with the objective 'multi:softprob' was changed from 'merror' to 'mlogloss'. Explicitly set eval_metric if you'd like to restore the old behavior.\n",
      "84.03 %\n",
      "[09:02:05] WARNING: /var/folders/sy/f16zz6x50xz3113nwtb9bvq00000gp/T/abs_44tbtwf8c1/croots/recipe/xgboost-split_1659548960882/work/src/learner.cc:1115: Starting in XGBoost 1.3.0, the default evaluation metric used with the objective 'multi:softprob' was changed from 'merror' to 'mlogloss'. Explicitly set eval_metric if you'd like to restore the old behavior.\n",
      "84.72 %\n",
      "[09:05:06] WARNING: /var/folders/sy/f16zz6x50xz3113nwtb9bvq00000gp/T/abs_44tbtwf8c1/croots/recipe/xgboost-split_1659548960882/work/src/learner.cc:1115: Starting in XGBoost 1.3.0, the default evaluation metric used with the objective 'multi:softprob' was changed from 'merror' to 'mlogloss'. Explicitly set eval_metric if you'd like to restore the old behavior.\n",
      "85.42 %\n",
      "[09:08:03] WARNING: /var/folders/sy/f16zz6x50xz3113nwtb9bvq00000gp/T/abs_44tbtwf8c1/croots/recipe/xgboost-split_1659548960882/work/src/learner.cc:1115: Starting in XGBoost 1.3.0, the default evaluation metric used with the objective 'multi:softprob' was changed from 'merror' to 'mlogloss'. Explicitly set eval_metric if you'd like to restore the old behavior.\n",
      "86.11 %\n",
      "[09:10:41] WARNING: /var/folders/sy/f16zz6x50xz3113nwtb9bvq00000gp/T/abs_44tbtwf8c1/croots/recipe/xgboost-split_1659548960882/work/src/learner.cc:1115: Starting in XGBoost 1.3.0, the default evaluation metric used with the objective 'multi:softprob' was changed from 'merror' to 'mlogloss'. Explicitly set eval_metric if you'd like to restore the old behavior.\n",
      "86.81 %\n",
      "[09:13:25] WARNING: /var/folders/sy/f16zz6x50xz3113nwtb9bvq00000gp/T/abs_44tbtwf8c1/croots/recipe/xgboost-split_1659548960882/work/src/learner.cc:1115: Starting in XGBoost 1.3.0, the default evaluation metric used with the objective 'multi:softprob' was changed from 'merror' to 'mlogloss'. Explicitly set eval_metric if you'd like to restore the old behavior.\n",
      "87.50 %\n",
      "[09:15:57] WARNING: /var/folders/sy/f16zz6x50xz3113nwtb9bvq00000gp/T/abs_44tbtwf8c1/croots/recipe/xgboost-split_1659548960882/work/src/learner.cc:1115: Starting in XGBoost 1.3.0, the default evaluation metric used with the objective 'multi:softprob' was changed from 'merror' to 'mlogloss'. Explicitly set eval_metric if you'd like to restore the old behavior.\n",
      "88.19 %\n",
      "[09:18:32] WARNING: /var/folders/sy/f16zz6x50xz3113nwtb9bvq00000gp/T/abs_44tbtwf8c1/croots/recipe/xgboost-split_1659548960882/work/src/learner.cc:1115: Starting in XGBoost 1.3.0, the default evaluation metric used with the objective 'multi:softprob' was changed from 'merror' to 'mlogloss'. Explicitly set eval_metric if you'd like to restore the old behavior.\n",
      "88.89 %\n",
      "[09:20:58] WARNING: /var/folders/sy/f16zz6x50xz3113nwtb9bvq00000gp/T/abs_44tbtwf8c1/croots/recipe/xgboost-split_1659548960882/work/src/learner.cc:1115: Starting in XGBoost 1.3.0, the default evaluation metric used with the objective 'multi:softprob' was changed from 'merror' to 'mlogloss'. Explicitly set eval_metric if you'd like to restore the old behavior.\n",
      "89.58 %\n",
      "[09:23:39] WARNING: /var/folders/sy/f16zz6x50xz3113nwtb9bvq00000gp/T/abs_44tbtwf8c1/croots/recipe/xgboost-split_1659548960882/work/src/learner.cc:1115: Starting in XGBoost 1.3.0, the default evaluation metric used with the objective 'multi:softprob' was changed from 'merror' to 'mlogloss'. Explicitly set eval_metric if you'd like to restore the old behavior.\n",
      "90.28 %\n",
      "[09:26:12] WARNING: /var/folders/sy/f16zz6x50xz3113nwtb9bvq00000gp/T/abs_44tbtwf8c1/croots/recipe/xgboost-split_1659548960882/work/src/learner.cc:1115: Starting in XGBoost 1.3.0, the default evaluation metric used with the objective 'multi:softprob' was changed from 'merror' to 'mlogloss'. Explicitly set eval_metric if you'd like to restore the old behavior.\n",
      "90.97 %\n",
      "[09:28:50] WARNING: /var/folders/sy/f16zz6x50xz3113nwtb9bvq00000gp/T/abs_44tbtwf8c1/croots/recipe/xgboost-split_1659548960882/work/src/learner.cc:1115: Starting in XGBoost 1.3.0, the default evaluation metric used with the objective 'multi:softprob' was changed from 'merror' to 'mlogloss'. Explicitly set eval_metric if you'd like to restore the old behavior.\n",
      "91.67 %\n",
      "[09:31:22] WARNING: /var/folders/sy/f16zz6x50xz3113nwtb9bvq00000gp/T/abs_44tbtwf8c1/croots/recipe/xgboost-split_1659548960882/work/src/learner.cc:1115: Starting in XGBoost 1.3.0, the default evaluation metric used with the objective 'multi:softprob' was changed from 'merror' to 'mlogloss'. Explicitly set eval_metric if you'd like to restore the old behavior.\n",
      "92.36 %\n",
      "[09:33:59] WARNING: /var/folders/sy/f16zz6x50xz3113nwtb9bvq00000gp/T/abs_44tbtwf8c1/croots/recipe/xgboost-split_1659548960882/work/src/learner.cc:1115: Starting in XGBoost 1.3.0, the default evaluation metric used with the objective 'multi:softprob' was changed from 'merror' to 'mlogloss'. Explicitly set eval_metric if you'd like to restore the old behavior.\n",
      "93.06 %\n",
      "[09:36:33] WARNING: /var/folders/sy/f16zz6x50xz3113nwtb9bvq00000gp/T/abs_44tbtwf8c1/croots/recipe/xgboost-split_1659548960882/work/src/learner.cc:1115: Starting in XGBoost 1.3.0, the default evaluation metric used with the objective 'multi:softprob' was changed from 'merror' to 'mlogloss'. Explicitly set eval_metric if you'd like to restore the old behavior.\n",
      "93.75 %\n",
      "[09:39:08] WARNING: /var/folders/sy/f16zz6x50xz3113nwtb9bvq00000gp/T/abs_44tbtwf8c1/croots/recipe/xgboost-split_1659548960882/work/src/learner.cc:1115: Starting in XGBoost 1.3.0, the default evaluation metric used with the objective 'multi:softprob' was changed from 'merror' to 'mlogloss'. Explicitly set eval_metric if you'd like to restore the old behavior.\n",
      "94.44 %\n",
      "[09:41:39] WARNING: /var/folders/sy/f16zz6x50xz3113nwtb9bvq00000gp/T/abs_44tbtwf8c1/croots/recipe/xgboost-split_1659548960882/work/src/learner.cc:1115: Starting in XGBoost 1.3.0, the default evaluation metric used with the objective 'multi:softprob' was changed from 'merror' to 'mlogloss'. Explicitly set eval_metric if you'd like to restore the old behavior.\n",
      "95.14 %\n",
      "[09:44:13] WARNING: /var/folders/sy/f16zz6x50xz3113nwtb9bvq00000gp/T/abs_44tbtwf8c1/croots/recipe/xgboost-split_1659548960882/work/src/learner.cc:1115: Starting in XGBoost 1.3.0, the default evaluation metric used with the objective 'multi:softprob' was changed from 'merror' to 'mlogloss'. Explicitly set eval_metric if you'd like to restore the old behavior.\n",
      "95.83 %\n",
      "[09:46:48] WARNING: /var/folders/sy/f16zz6x50xz3113nwtb9bvq00000gp/T/abs_44tbtwf8c1/croots/recipe/xgboost-split_1659548960882/work/src/learner.cc:1115: Starting in XGBoost 1.3.0, the default evaluation metric used with the objective 'multi:softprob' was changed from 'merror' to 'mlogloss'. Explicitly set eval_metric if you'd like to restore the old behavior.\n",
      "96.53 %\n",
      "[09:49:23] WARNING: /var/folders/sy/f16zz6x50xz3113nwtb9bvq00000gp/T/abs_44tbtwf8c1/croots/recipe/xgboost-split_1659548960882/work/src/learner.cc:1115: Starting in XGBoost 1.3.0, the default evaluation metric used with the objective 'multi:softprob' was changed from 'merror' to 'mlogloss'. Explicitly set eval_metric if you'd like to restore the old behavior.\n",
      "97.22 %\n",
      "[09:51:52] WARNING: /var/folders/sy/f16zz6x50xz3113nwtb9bvq00000gp/T/abs_44tbtwf8c1/croots/recipe/xgboost-split_1659548960882/work/src/learner.cc:1115: Starting in XGBoost 1.3.0, the default evaluation metric used with the objective 'multi:softprob' was changed from 'merror' to 'mlogloss'. Explicitly set eval_metric if you'd like to restore the old behavior.\n",
      "97.92 %\n",
      "[09:54:26] WARNING: /var/folders/sy/f16zz6x50xz3113nwtb9bvq00000gp/T/abs_44tbtwf8c1/croots/recipe/xgboost-split_1659548960882/work/src/learner.cc:1115: Starting in XGBoost 1.3.0, the default evaluation metric used with the objective 'multi:softprob' was changed from 'merror' to 'mlogloss'. Explicitly set eval_metric if you'd like to restore the old behavior.\n",
      "98.61 %\n",
      "[09:56:56] WARNING: /var/folders/sy/f16zz6x50xz3113nwtb9bvq00000gp/T/abs_44tbtwf8c1/croots/recipe/xgboost-split_1659548960882/work/src/learner.cc:1115: Starting in XGBoost 1.3.0, the default evaluation metric used with the objective 'multi:softprob' was changed from 'merror' to 'mlogloss'. Explicitly set eval_metric if you'd like to restore the old behavior.\n",
      "99.31 %\n",
      "[09:59:30] WARNING: /var/folders/sy/f16zz6x50xz3113nwtb9bvq00000gp/T/abs_44tbtwf8c1/croots/recipe/xgboost-split_1659548960882/work/src/learner.cc:1115: Starting in XGBoost 1.3.0, the default evaluation metric used with the objective 'multi:softprob' was changed from 'merror' to 'mlogloss'. Explicitly set eval_metric if you'd like to restore the old behavior.\n",
      "100.00 %\n"
     ]
    }
   ],
   "source": [
    "j = 115 \n",
    "\n",
    "for model in list_models[115:]:\n",
    "    regressor = xgb.XGBClassifier(\n",
    "        n_estimators=100,\n",
    "        reg_lambda=model['lambdas'],\n",
    "        gamma=0,\n",
    "        max_depth=model['depth'],\n",
    "        min_child_weight = model['weight'],\n",
    "        learning_rate = model['rate']\n",
    "    )\n",
    "\n",
    "    weights_df = pd.DataFrame(final_df_train_valid.iloc[:, 0].astype(str).values, columns = ['labels'])\n",
    "    weights_df['weights'] = weights_df['labels'].map(weights_dict) \n",
    "\n",
    "    regressor.fit(np.array(final_df_train_valid.iloc[:, 1:]), np.array(final_df_train_valid.iloc[:,0].astype(str)),\\\n",
    "         sample_weight = weights_df['weights'].values)\n",
    "\n",
    "\n",
    "    train_err = 1 - regressor.score(final_df_train_valid.iloc[:,1:], final_df_train_valid.iloc[:,0].astype(str),\\\n",
    "            sample_weight = weights_df['weights'].values)\n",
    "\n",
    "    test_err = 1 - regressor.score(final_df_validation.iloc[:,1:], final_df_validation.iloc[:,0].astype(str),\\\n",
    "            sample_weight = final_df_validation.iloc[:,0].astype(str).map(weights_dict).values)\n",
    "\n",
    "    \n",
    "    xgboost_results = xgboost_results.append({'training_error': train_err, 'test_error': test_err, 'model': j},\\\n",
    "         ignore_index = True)\n",
    "\n",
    "    print(f'{(j + 1) / len(all_models) * 100:.2f} %') # printing progress \n",
    "    j += 1\n",
    "\n",
    "    xgboost_results.to_csv('../data/xgb_results.csv')"
   ]
  },
  {
   "cell_type": "code",
   "execution_count": 24,
   "metadata": {},
   "outputs": [
    {
     "data": {
      "text/html": [
       "<div>\n",
       "<style scoped>\n",
       "    .dataframe tbody tr th:only-of-type {\n",
       "        vertical-align: middle;\n",
       "    }\n",
       "\n",
       "    .dataframe tbody tr th {\n",
       "        vertical-align: top;\n",
       "    }\n",
       "\n",
       "    .dataframe thead th {\n",
       "        text-align: right;\n",
       "    }\n",
       "</style>\n",
       "<table border=\"1\" class=\"dataframe\">\n",
       "  <thead>\n",
       "    <tr style=\"text-align: right;\">\n",
       "      <th></th>\n",
       "      <th>depth</th>\n",
       "      <th>rate</th>\n",
       "      <th>weight</th>\n",
       "      <th>lambdas</th>\n",
       "    </tr>\n",
       "  </thead>\n",
       "  <tbody>\n",
       "    <tr>\n",
       "      <th>0</th>\n",
       "      <td>5</td>\n",
       "      <td>0.001</td>\n",
       "      <td>5</td>\n",
       "      <td>0.0000</td>\n",
       "    </tr>\n",
       "    <tr>\n",
       "      <th>1</th>\n",
       "      <td>5</td>\n",
       "      <td>0.001</td>\n",
       "      <td>5</td>\n",
       "      <td>0.0010</td>\n",
       "    </tr>\n",
       "    <tr>\n",
       "      <th>2</th>\n",
       "      <td>5</td>\n",
       "      <td>0.001</td>\n",
       "      <td>5</td>\n",
       "      <td>0.0001</td>\n",
       "    </tr>\n",
       "    <tr>\n",
       "      <th>3</th>\n",
       "      <td>5</td>\n",
       "      <td>0.001</td>\n",
       "      <td>5</td>\n",
       "      <td>0.1000</td>\n",
       "    </tr>\n",
       "    <tr>\n",
       "      <th>4</th>\n",
       "      <td>5</td>\n",
       "      <td>0.001</td>\n",
       "      <td>10</td>\n",
       "      <td>0.0000</td>\n",
       "    </tr>\n",
       "    <tr>\n",
       "      <th>...</th>\n",
       "      <td>...</td>\n",
       "      <td>...</td>\n",
       "      <td>...</td>\n",
       "      <td>...</td>\n",
       "    </tr>\n",
       "    <tr>\n",
       "      <th>139</th>\n",
       "      <td>15</td>\n",
       "      <td>0.300</td>\n",
       "      <td>10</td>\n",
       "      <td>0.1000</td>\n",
       "    </tr>\n",
       "    <tr>\n",
       "      <th>140</th>\n",
       "      <td>15</td>\n",
       "      <td>0.300</td>\n",
       "      <td>15</td>\n",
       "      <td>0.0000</td>\n",
       "    </tr>\n",
       "    <tr>\n",
       "      <th>141</th>\n",
       "      <td>15</td>\n",
       "      <td>0.300</td>\n",
       "      <td>15</td>\n",
       "      <td>0.0010</td>\n",
       "    </tr>\n",
       "    <tr>\n",
       "      <th>142</th>\n",
       "      <td>15</td>\n",
       "      <td>0.300</td>\n",
       "      <td>15</td>\n",
       "      <td>0.0001</td>\n",
       "    </tr>\n",
       "    <tr>\n",
       "      <th>143</th>\n",
       "      <td>15</td>\n",
       "      <td>0.300</td>\n",
       "      <td>15</td>\n",
       "      <td>0.1000</td>\n",
       "    </tr>\n",
       "  </tbody>\n",
       "</table>\n",
       "<p>144 rows × 4 columns</p>\n",
       "</div>"
      ],
      "text/plain": [
       "     depth   rate  weight  lambdas\n",
       "0        5  0.001       5   0.0000\n",
       "1        5  0.001       5   0.0010\n",
       "2        5  0.001       5   0.0001\n",
       "3        5  0.001       5   0.1000\n",
       "4        5  0.001      10   0.0000\n",
       "..     ...    ...     ...      ...\n",
       "139     15  0.300      10   0.1000\n",
       "140     15  0.300      15   0.0000\n",
       "141     15  0.300      15   0.0010\n",
       "142     15  0.300      15   0.0001\n",
       "143     15  0.300      15   0.1000\n",
       "\n",
       "[144 rows x 4 columns]"
      ]
     },
     "execution_count": 24,
     "metadata": {},
     "output_type": "execute_result"
    }
   ],
   "source": [
    "pd.DataFrame(all_models, columns=['depth', 'rate', 'weight', 'lambdas'])"
   ]
  },
  {
   "cell_type": "code",
   "execution_count": 16,
   "metadata": {},
   "outputs": [
    {
     "data": {
      "text/html": [
       "<div>\n",
       "<style scoped>\n",
       "    .dataframe tbody tr th:only-of-type {\n",
       "        vertical-align: middle;\n",
       "    }\n",
       "\n",
       "    .dataframe tbody tr th {\n",
       "        vertical-align: top;\n",
       "    }\n",
       "\n",
       "    .dataframe thead th {\n",
       "        text-align: right;\n",
       "    }\n",
       "</style>\n",
       "<table border=\"1\" class=\"dataframe\">\n",
       "  <thead>\n",
       "    <tr style=\"text-align: right;\">\n",
       "      <th></th>\n",
       "      <th>model</th>\n",
       "      <th>test_error</th>\n",
       "      <th>training_error</th>\n",
       "      <th>depth</th>\n",
       "      <th>rate</th>\n",
       "      <th>weight</th>\n",
       "      <th>lambdas</th>\n",
       "    </tr>\n",
       "  </thead>\n",
       "  <tbody>\n",
       "    <tr>\n",
       "      <th>8</th>\n",
       "      <td>8</td>\n",
       "      <td>0.234950</td>\n",
       "      <td>0.195889</td>\n",
       "      <td>5</td>\n",
       "      <td>0.001</td>\n",
       "      <td>15</td>\n",
       "      <td>0.0000</td>\n",
       "    </tr>\n",
       "    <tr>\n",
       "      <th>10</th>\n",
       "      <td>10</td>\n",
       "      <td>0.234950</td>\n",
       "      <td>0.195889</td>\n",
       "      <td>5</td>\n",
       "      <td>0.001</td>\n",
       "      <td>15</td>\n",
       "      <td>0.0001</td>\n",
       "    </tr>\n",
       "    <tr>\n",
       "      <th>9</th>\n",
       "      <td>9</td>\n",
       "      <td>0.234950</td>\n",
       "      <td>0.195889</td>\n",
       "      <td>5</td>\n",
       "      <td>0.001</td>\n",
       "      <td>15</td>\n",
       "      <td>0.0010</td>\n",
       "    </tr>\n",
       "    <tr>\n",
       "      <th>11</th>\n",
       "      <td>11</td>\n",
       "      <td>0.234989</td>\n",
       "      <td>0.195892</td>\n",
       "      <td>5</td>\n",
       "      <td>0.001</td>\n",
       "      <td>15</td>\n",
       "      <td>0.1000</td>\n",
       "    </tr>\n",
       "    <tr>\n",
       "      <th>6</th>\n",
       "      <td>6</td>\n",
       "      <td>0.236917</td>\n",
       "      <td>0.195870</td>\n",
       "      <td>5</td>\n",
       "      <td>0.001</td>\n",
       "      <td>10</td>\n",
       "      <td>0.0001</td>\n",
       "    </tr>\n",
       "    <tr>\n",
       "      <th>0</th>\n",
       "      <td>0</td>\n",
       "      <td>0.236917</td>\n",
       "      <td>0.195870</td>\n",
       "      <td>5</td>\n",
       "      <td>0.001</td>\n",
       "      <td>5</td>\n",
       "      <td>0.0000</td>\n",
       "    </tr>\n",
       "    <tr>\n",
       "      <th>4</th>\n",
       "      <td>4</td>\n",
       "      <td>0.236917</td>\n",
       "      <td>0.195870</td>\n",
       "      <td>5</td>\n",
       "      <td>0.001</td>\n",
       "      <td>10</td>\n",
       "      <td>0.0000</td>\n",
       "    </tr>\n",
       "    <tr>\n",
       "      <th>2</th>\n",
       "      <td>2</td>\n",
       "      <td>0.236917</td>\n",
       "      <td>0.195870</td>\n",
       "      <td>5</td>\n",
       "      <td>0.001</td>\n",
       "      <td>5</td>\n",
       "      <td>0.0001</td>\n",
       "    </tr>\n",
       "    <tr>\n",
       "      <th>1</th>\n",
       "      <td>1</td>\n",
       "      <td>0.236917</td>\n",
       "      <td>0.195870</td>\n",
       "      <td>5</td>\n",
       "      <td>0.001</td>\n",
       "      <td>5</td>\n",
       "      <td>0.0010</td>\n",
       "    </tr>\n",
       "    <tr>\n",
       "      <th>5</th>\n",
       "      <td>5</td>\n",
       "      <td>0.236917</td>\n",
       "      <td>0.195870</td>\n",
       "      <td>5</td>\n",
       "      <td>0.001</td>\n",
       "      <td>10</td>\n",
       "      <td>0.0010</td>\n",
       "    </tr>\n",
       "    <tr>\n",
       "      <th>7</th>\n",
       "      <td>7</td>\n",
       "      <td>0.236956</td>\n",
       "      <td>0.195873</td>\n",
       "      <td>5</td>\n",
       "      <td>0.001</td>\n",
       "      <td>10</td>\n",
       "      <td>0.1000</td>\n",
       "    </tr>\n",
       "    <tr>\n",
       "      <th>3</th>\n",
       "      <td>3</td>\n",
       "      <td>0.236956</td>\n",
       "      <td>0.195873</td>\n",
       "      <td>5</td>\n",
       "      <td>0.001</td>\n",
       "      <td>5</td>\n",
       "      <td>0.1000</td>\n",
       "    </tr>\n",
       "    <tr>\n",
       "      <th>22</th>\n",
       "      <td>22</td>\n",
       "      <td>0.248745</td>\n",
       "      <td>0.053650</td>\n",
       "      <td>5</td>\n",
       "      <td>0.100</td>\n",
       "      <td>15</td>\n",
       "      <td>0.0001</td>\n",
       "    </tr>\n",
       "    <tr>\n",
       "      <th>20</th>\n",
       "      <td>20</td>\n",
       "      <td>0.248745</td>\n",
       "      <td>0.053650</td>\n",
       "      <td>5</td>\n",
       "      <td>0.100</td>\n",
       "      <td>15</td>\n",
       "      <td>0.0000</td>\n",
       "    </tr>\n",
       "    <tr>\n",
       "      <th>23</th>\n",
       "      <td>23</td>\n",
       "      <td>0.249542</td>\n",
       "      <td>0.055901</td>\n",
       "      <td>5</td>\n",
       "      <td>0.100</td>\n",
       "      <td>15</td>\n",
       "      <td>0.1000</td>\n",
       "    </tr>\n",
       "    <tr>\n",
       "      <th>21</th>\n",
       "      <td>21</td>\n",
       "      <td>0.250340</td>\n",
       "      <td>0.053266</td>\n",
       "      <td>5</td>\n",
       "      <td>0.100</td>\n",
       "      <td>15</td>\n",
       "      <td>0.0010</td>\n",
       "    </tr>\n",
       "    <tr>\n",
       "      <th>14</th>\n",
       "      <td>14</td>\n",
       "      <td>0.250511</td>\n",
       "      <td>0.054521</td>\n",
       "      <td>5</td>\n",
       "      <td>0.100</td>\n",
       "      <td>5</td>\n",
       "      <td>0.0001</td>\n",
       "    </tr>\n",
       "    <tr>\n",
       "      <th>17</th>\n",
       "      <td>17</td>\n",
       "      <td>0.251209</td>\n",
       "      <td>0.050756</td>\n",
       "      <td>5</td>\n",
       "      <td>0.100</td>\n",
       "      <td>10</td>\n",
       "      <td>0.0010</td>\n",
       "    </tr>\n",
       "    <tr>\n",
       "      <th>13</th>\n",
       "      <td>13</td>\n",
       "      <td>0.251792</td>\n",
       "      <td>0.052351</td>\n",
       "      <td>5</td>\n",
       "      <td>0.100</td>\n",
       "      <td>5</td>\n",
       "      <td>0.0010</td>\n",
       "    </tr>\n",
       "    <tr>\n",
       "      <th>18</th>\n",
       "      <td>18</td>\n",
       "      <td>0.253556</td>\n",
       "      <td>0.051631</td>\n",
       "      <td>5</td>\n",
       "      <td>0.100</td>\n",
       "      <td>10</td>\n",
       "      <td>0.0001</td>\n",
       "    </tr>\n",
       "  </tbody>\n",
       "</table>\n",
       "</div>"
      ],
      "text/plain": [
       "    model  test_error  training_error  depth   rate  weight  lambdas\n",
       "8       8    0.234950        0.195889      5  0.001      15   0.0000\n",
       "10     10    0.234950        0.195889      5  0.001      15   0.0001\n",
       "9       9    0.234950        0.195889      5  0.001      15   0.0010\n",
       "11     11    0.234989        0.195892      5  0.001      15   0.1000\n",
       "6       6    0.236917        0.195870      5  0.001      10   0.0001\n",
       "0       0    0.236917        0.195870      5  0.001       5   0.0000\n",
       "4       4    0.236917        0.195870      5  0.001      10   0.0000\n",
       "2       2    0.236917        0.195870      5  0.001       5   0.0001\n",
       "1       1    0.236917        0.195870      5  0.001       5   0.0010\n",
       "5       5    0.236917        0.195870      5  0.001      10   0.0010\n",
       "7       7    0.236956        0.195873      5  0.001      10   0.1000\n",
       "3       3    0.236956        0.195873      5  0.001       5   0.1000\n",
       "22     22    0.248745        0.053650      5  0.100      15   0.0001\n",
       "20     20    0.248745        0.053650      5  0.100      15   0.0000\n",
       "23     23    0.249542        0.055901      5  0.100      15   0.1000\n",
       "21     21    0.250340        0.053266      5  0.100      15   0.0010\n",
       "14     14    0.250511        0.054521      5  0.100       5   0.0001\n",
       "17     17    0.251209        0.050756      5  0.100      10   0.0010\n",
       "13     13    0.251792        0.052351      5  0.100       5   0.0010\n",
       "18     18    0.253556        0.051631      5  0.100      10   0.0001"
      ]
     },
     "execution_count": 16,
     "metadata": {},
     "output_type": "execute_result"
    }
   ],
   "source": [
    "df_xgb_results = pd.read_csv('../data/xgb_results.csv')\n",
    "df_xgb_results.sort_values(by = 'test_error', ascending=True).head(10)\n",
    "df_xgb_results.drop(columns = ['Unnamed: 0', 'Unnamed: 0.1', 'depth', 'rate', 'weight', 'lambdas'], inplace = True)\n",
    "df_xgb_results['model'] = df_xgb_results['model'].astype(int)\n",
    "\n",
    "final_df = pd.merge(df_xgb_results, pd.DataFrame(all_models, columns=['depth', 'rate', 'weight', 'lambdas']), left_on = 'model', right_index = True).sort_values(by = 'test_error', ascending=True)\n",
    "\n",
    "final_df.head(20)"
   ]
  },
  {
   "cell_type": "code",
   "execution_count": 18,
   "metadata": {},
   "outputs": [
    {
     "data": {
      "text/plain": [
       "{'depth': 5, 'rate': 0.001, 'weight': 15, 'lambdas': 0}"
      ]
     },
     "execution_count": 18,
     "metadata": {},
     "output_type": "execute_result"
    }
   ],
   "source": [
    "list_models[8]"
   ]
  },
  {
   "cell_type": "code",
   "execution_count": 41,
   "metadata": {},
   "outputs": [],
   "source": [
    "classifier = xgb.XGBClassifier(\n",
    "    n_estimators=100,\n",
    "    reg_lambda=list_models[8]['lambdas'],\n",
    "    gamma = 0,\n",
    "    max_depth=list_models[8]['depth'],\n",
    "    min_child_weight = list_models[8]['weight'],\n",
    "    learning_rate = list_models[8]['rate']\n",
    ")"
   ]
  },
  {
   "cell_type": "code",
   "execution_count": 42,
   "metadata": {},
   "outputs": [],
   "source": [
    "weights_df = pd.DataFrame(final_df_train.iloc[:, 0].astype(str).values, columns = ['labels'])\n",
    "weights_df['weights'] = weights_df['labels'].map(weights_dict) "
   ]
  },
  {
   "cell_type": "code",
   "execution_count": 43,
   "metadata": {},
   "outputs": [
    {
     "name": "stderr",
     "output_type": "stream",
     "text": [
      "/Applications/anaconda3/envs/torch/lib/python3.8/site-packages/xgboost/sklearn.py:1224: UserWarning: The use of label encoder in XGBClassifier is deprecated and will be removed in a future release. To remove this warning, do the following: 1) Pass option use_label_encoder=False when constructing XGBClassifier object; and 2) Encode your labels (y) as integers starting with 0, i.e. 0, 1, 2, ..., [num_class - 1].\n",
      "  warnings.warn(label_encoder_deprecation_msg, UserWarning)\n"
     ]
    },
    {
     "name": "stdout",
     "output_type": "stream",
     "text": [
      "[21:13:14] WARNING: /var/folders/sy/f16zz6x50xz3113nwtb9bvq00000gp/T/abs_44tbtwf8c1/croots/recipe/xgboost-split_1659548960882/work/src/learner.cc:1115: Starting in XGBoost 1.3.0, the default evaluation metric used with the objective 'multi:softprob' was changed from 'merror' to 'mlogloss'. Explicitly set eval_metric if you'd like to restore the old behavior.\n"
     ]
    },
    {
     "data": {
      "text/html": [
       "<style>#sk-container-id-3 {color: black;background-color: white;}#sk-container-id-3 pre{padding: 0;}#sk-container-id-3 div.sk-toggleable {background-color: white;}#sk-container-id-3 label.sk-toggleable__label {cursor: pointer;display: block;width: 100%;margin-bottom: 0;padding: 0.3em;box-sizing: border-box;text-align: center;}#sk-container-id-3 label.sk-toggleable__label-arrow:before {content: \"▸\";float: left;margin-right: 0.25em;color: #696969;}#sk-container-id-3 label.sk-toggleable__label-arrow:hover:before {color: black;}#sk-container-id-3 div.sk-estimator:hover label.sk-toggleable__label-arrow:before {color: black;}#sk-container-id-3 div.sk-toggleable__content {max-height: 0;max-width: 0;overflow: hidden;text-align: left;background-color: #f0f8ff;}#sk-container-id-3 div.sk-toggleable__content pre {margin: 0.2em;color: black;border-radius: 0.25em;background-color: #f0f8ff;}#sk-container-id-3 input.sk-toggleable__control:checked~div.sk-toggleable__content {max-height: 200px;max-width: 100%;overflow: auto;}#sk-container-id-3 input.sk-toggleable__control:checked~label.sk-toggleable__label-arrow:before {content: \"▾\";}#sk-container-id-3 div.sk-estimator input.sk-toggleable__control:checked~label.sk-toggleable__label {background-color: #d4ebff;}#sk-container-id-3 div.sk-label input.sk-toggleable__control:checked~label.sk-toggleable__label {background-color: #d4ebff;}#sk-container-id-3 input.sk-hidden--visually {border: 0;clip: rect(1px 1px 1px 1px);clip: rect(1px, 1px, 1px, 1px);height: 1px;margin: -1px;overflow: hidden;padding: 0;position: absolute;width: 1px;}#sk-container-id-3 div.sk-estimator {font-family: monospace;background-color: #f0f8ff;border: 1px dotted black;border-radius: 0.25em;box-sizing: border-box;margin-bottom: 0.5em;}#sk-container-id-3 div.sk-estimator:hover {background-color: #d4ebff;}#sk-container-id-3 div.sk-parallel-item::after {content: \"\";width: 100%;border-bottom: 1px solid gray;flex-grow: 1;}#sk-container-id-3 div.sk-label:hover label.sk-toggleable__label {background-color: #d4ebff;}#sk-container-id-3 div.sk-serial::before {content: \"\";position: absolute;border-left: 1px solid gray;box-sizing: border-box;top: 0;bottom: 0;left: 50%;z-index: 0;}#sk-container-id-3 div.sk-serial {display: flex;flex-direction: column;align-items: center;background-color: white;padding-right: 0.2em;padding-left: 0.2em;position: relative;}#sk-container-id-3 div.sk-item {position: relative;z-index: 1;}#sk-container-id-3 div.sk-parallel {display: flex;align-items: stretch;justify-content: center;background-color: white;position: relative;}#sk-container-id-3 div.sk-item::before, #sk-container-id-3 div.sk-parallel-item::before {content: \"\";position: absolute;border-left: 1px solid gray;box-sizing: border-box;top: 0;bottom: 0;left: 50%;z-index: -1;}#sk-container-id-3 div.sk-parallel-item {display: flex;flex-direction: column;z-index: 1;position: relative;background-color: white;}#sk-container-id-3 div.sk-parallel-item:first-child::after {align-self: flex-end;width: 50%;}#sk-container-id-3 div.sk-parallel-item:last-child::after {align-self: flex-start;width: 50%;}#sk-container-id-3 div.sk-parallel-item:only-child::after {width: 0;}#sk-container-id-3 div.sk-dashed-wrapped {border: 1px dashed gray;margin: 0 0.4em 0.5em 0.4em;box-sizing: border-box;padding-bottom: 0.4em;background-color: white;}#sk-container-id-3 div.sk-label label {font-family: monospace;font-weight: bold;display: inline-block;line-height: 1.2em;}#sk-container-id-3 div.sk-label-container {text-align: center;}#sk-container-id-3 div.sk-container {/* jupyter's `normalize.less` sets `[hidden] { display: none; }` but bootstrap.min.css set `[hidden] { display: none !important; }` so we also need the `!important` here to be able to override the default hidden behavior on the sphinx rendered scikit-learn.org. See: https://github.com/scikit-learn/scikit-learn/issues/21755 */display: inline-block !important;position: relative;}#sk-container-id-3 div.sk-text-repr-fallback {display: none;}</style><div id=\"sk-container-id-3\" class=\"sk-top-container\"><div class=\"sk-text-repr-fallback\"><pre>XGBClassifier(base_score=0.5, booster=&#x27;gbtree&#x27;, colsample_bylevel=1,\n",
       "              colsample_bynode=1, colsample_bytree=1, enable_categorical=False,\n",
       "              gamma=0, gpu_id=-1, importance_type=None,\n",
       "              interaction_constraints=&#x27;&#x27;, learning_rate=0.001, max_delta_step=0,\n",
       "              max_depth=5, min_child_weight=15, missing=nan,\n",
       "              monotone_constraints=&#x27;()&#x27;, n_estimators=100, n_jobs=4,\n",
       "              num_parallel_tree=1, objective=&#x27;multi:softprob&#x27;, predictor=&#x27;auto&#x27;,\n",
       "              random_state=0, reg_alpha=0, reg_lambda=0, scale_pos_weight=None,\n",
       "              subsample=1, tree_method=&#x27;exact&#x27;, validate_parameters=1,\n",
       "              verbosity=None)</pre><b>In a Jupyter environment, please rerun this cell to show the HTML representation or trust the notebook. <br />On GitHub, the HTML representation is unable to render, please try loading this page with nbviewer.org.</b></div><div class=\"sk-container\" hidden><div class=\"sk-item\"><div class=\"sk-estimator sk-toggleable\"><input class=\"sk-toggleable__control sk-hidden--visually\" id=\"sk-estimator-id-3\" type=\"checkbox\" checked><label for=\"sk-estimator-id-3\" class=\"sk-toggleable__label sk-toggleable__label-arrow\">XGBClassifier</label><div class=\"sk-toggleable__content\"><pre>XGBClassifier(base_score=0.5, booster=&#x27;gbtree&#x27;, colsample_bylevel=1,\n",
       "              colsample_bynode=1, colsample_bytree=1, enable_categorical=False,\n",
       "              gamma=0, gpu_id=-1, importance_type=None,\n",
       "              interaction_constraints=&#x27;&#x27;, learning_rate=0.001, max_delta_step=0,\n",
       "              max_depth=5, min_child_weight=15, missing=nan,\n",
       "              monotone_constraints=&#x27;()&#x27;, n_estimators=100, n_jobs=4,\n",
       "              num_parallel_tree=1, objective=&#x27;multi:softprob&#x27;, predictor=&#x27;auto&#x27;,\n",
       "              random_state=0, reg_alpha=0, reg_lambda=0, scale_pos_weight=None,\n",
       "              subsample=1, tree_method=&#x27;exact&#x27;, validate_parameters=1,\n",
       "              verbosity=None)</pre></div></div></div></div></div>"
      ],
      "text/plain": [
       "XGBClassifier(base_score=0.5, booster='gbtree', colsample_bylevel=1,\n",
       "              colsample_bynode=1, colsample_bytree=1, enable_categorical=False,\n",
       "              gamma=0, gpu_id=-1, importance_type=None,\n",
       "              interaction_constraints='', learning_rate=0.001, max_delta_step=0,\n",
       "              max_depth=5, min_child_weight=15, missing=nan,\n",
       "              monotone_constraints='()', n_estimators=100, n_jobs=4,\n",
       "              num_parallel_tree=1, objective='multi:softprob', predictor='auto',\n",
       "              random_state=0, reg_alpha=0, reg_lambda=0, scale_pos_weight=None,\n",
       "              subsample=1, tree_method='exact', validate_parameters=1,\n",
       "              verbosity=None)"
      ]
     },
     "execution_count": 43,
     "metadata": {},
     "output_type": "execute_result"
    }
   ],
   "source": [
    "classifier.fit(np.array(final_df_train.iloc[:, 1:]), np.array(final_df_train.iloc[:,0].astype(str)), sample_weight = weights_df['weights'].values)"
   ]
  },
  {
   "cell_type": "code",
   "execution_count": 44,
   "metadata": {},
   "outputs": [],
   "source": [
    "\n",
    "y_pred = classifier.predict(final_df_test.iloc[:,1:])\n",
    "\n",
    "y_true = final_df_test.iloc[:,0].astype(str).values\n",
    "\n",
    "y_diff = y_true.astype(int) - y_pred.astype(int)\n",
    "\n"
   ]
  },
  {
   "cell_type": "code",
   "execution_count": 45,
   "metadata": {},
   "outputs": [
    {
     "name": "stdout",
     "output_type": "stream",
     "text": [
      "The accuracy of the model is: 0.8431018030234544\n"
     ]
    }
   ],
   "source": [
    "print('The accuracy of the model is:', len(y_diff[y_diff == 0])/len(y_diff))"
   ]
  },
  {
   "cell_type": "code",
   "execution_count": 46,
   "metadata": {},
   "outputs": [
    {
     "name": "stdout",
     "output_type": "stream",
     "text": [
      "Training error = 0.213\n",
      "Test error = 0.270\n"
     ]
    }
   ],
   "source": [
    "train_err = 1 - classifier.score(final_df_train.iloc[:,1:], final_df_train.iloc[:,0].astype(str), sample_weight = weights_df['weights'].values)\n",
    "print(\"Training error = %1.3f\" % train_err)\n",
    "test_err = 1 - classifier.score(final_df_test.iloc[:,1:], final_df_test.iloc[:,0].astype(str), sample_weight = final_df_test.iloc[:,0].astype(str).map(weights_dict).values)\n",
    "print(\"Test error = %1.3f\" % test_err)"
   ]
  },
  {
   "cell_type": "code",
   "execution_count": 51,
   "metadata": {},
   "outputs": [
    {
     "data": {
      "text/html": [
       "<div>\n",
       "<style scoped>\n",
       "    .dataframe tbody tr th:only-of-type {\n",
       "        vertical-align: middle;\n",
       "    }\n",
       "\n",
       "    .dataframe tbody tr th {\n",
       "        vertical-align: top;\n",
       "    }\n",
       "\n",
       "    .dataframe thead th {\n",
       "        text-align: right;\n",
       "    }\n",
       "</style>\n",
       "<table border=\"1\" class=\"dataframe\">\n",
       "  <thead>\n",
       "    <tr style=\"text-align: right;\">\n",
       "      <th></th>\n",
       "      <th>0</th>\n",
       "    </tr>\n",
       "  </thead>\n",
       "  <tbody>\n",
       "    <tr>\n",
       "      <th>behind_below</th>\n",
       "      <td>0.630113</td>\n",
       "    </tr>\n",
       "    <tr>\n",
       "      <th>Behind</th>\n",
       "      <td>0.077770</td>\n",
       "    </tr>\n",
       "    <tr>\n",
       "      <th>back_from_median</th>\n",
       "      <td>0.057414</td>\n",
       "    </tr>\n",
       "    <tr>\n",
       "      <th>standing_below</th>\n",
       "      <td>0.042269</td>\n",
       "    </tr>\n",
       "    <tr>\n",
       "      <th>behind_above</th>\n",
       "      <td>0.033233</td>\n",
       "    </tr>\n",
       "    <tr>\n",
       "      <th>standing_remaining</th>\n",
       "      <td>0.030596</td>\n",
       "    </tr>\n",
       "    <tr>\n",
       "      <th>km_to_go</th>\n",
       "      <td>0.019513</td>\n",
       "    </tr>\n",
       "    <tr>\n",
       "      <th>prone_below</th>\n",
       "      <td>0.018108</td>\n",
       "    </tr>\n",
       "    <tr>\n",
       "      <th>format</th>\n",
       "      <td>0.014214</td>\n",
       "    </tr>\n",
       "    <tr>\n",
       "      <th>gradient_prone</th>\n",
       "      <td>0.012535</td>\n",
       "    </tr>\n",
       "    <tr>\n",
       "      <th>prone_remaining</th>\n",
       "      <td>0.011835</td>\n",
       "    </tr>\n",
       "    <tr>\n",
       "      <th>all_mistakes_prone</th>\n",
       "      <td>0.010408</td>\n",
       "    </tr>\n",
       "    <tr>\n",
       "      <th>probability_prone</th>\n",
       "      <td>0.010284</td>\n",
       "    </tr>\n",
       "    <tr>\n",
       "      <th>probability_standing</th>\n",
       "      <td>0.009942</td>\n",
       "    </tr>\n",
       "    <tr>\n",
       "      <th>gradient_back</th>\n",
       "      <td>0.007936</td>\n",
       "    </tr>\n",
       "    <tr>\n",
       "      <th>gradient_standing</th>\n",
       "      <td>0.005887</td>\n",
       "    </tr>\n",
       "    <tr>\n",
       "      <th>position</th>\n",
       "      <td>0.004780</td>\n",
       "    </tr>\n",
       "    <tr>\n",
       "      <th>prone_above</th>\n",
       "      <td>0.001742</td>\n",
       "    </tr>\n",
       "    <tr>\n",
       "      <th>standing_above</th>\n",
       "      <td>0.001421</td>\n",
       "    </tr>\n",
       "    <tr>\n",
       "      <th>all_mistakes_standing</th>\n",
       "      <td>0.000000</td>\n",
       "    </tr>\n",
       "    <tr>\n",
       "      <th>gradient_pos</th>\n",
       "      <td>0.000000</td>\n",
       "    </tr>\n",
       "  </tbody>\n",
       "</table>\n",
       "</div>"
      ],
      "text/plain": [
       "                              0\n",
       "behind_below           0.630113\n",
       "Behind                 0.077770\n",
       "back_from_median       0.057414\n",
       "standing_below         0.042269\n",
       "behind_above           0.033233\n",
       "standing_remaining     0.030596\n",
       "km_to_go               0.019513\n",
       "prone_below            0.018108\n",
       "format                 0.014214\n",
       "gradient_prone         0.012535\n",
       "prone_remaining        0.011835\n",
       "all_mistakes_prone     0.010408\n",
       "probability_prone      0.010284\n",
       "probability_standing   0.009942\n",
       "gradient_back          0.007936\n",
       "gradient_standing      0.005887\n",
       "position               0.004780\n",
       "prone_above            0.001742\n",
       "standing_above         0.001421\n",
       "all_mistakes_standing  0.000000\n",
       "gradient_pos           0.000000"
      ]
     },
     "execution_count": 51,
     "metadata": {},
     "output_type": "execute_result"
    }
   ],
   "source": [
    "classifier_results = pd.DataFrame(classifier.feature_importances_.reshape(1, -1), columns = final_df_train.iloc[:, 1:].columns).T.sort_values(by = 0, ascending = False)\n",
    "classifier_results"
   ]
  },
  {
   "cell_type": "code",
   "execution_count": 48,
   "metadata": {},
   "outputs": [],
   "source": [
    "\n",
    "cm = metrics.confusion_matrix(y_true, y_pred, normalize = 'true')\n",
    "label_names=['0' , '1', '2']"
   ]
  },
  {
   "cell_type": "code",
   "execution_count": 49,
   "metadata": {},
   "outputs": [
    {
     "data": {
      "image/png": "[encoded data removed]",
      "text/plain": [
       "<Figure size 1080x504 with 2 Axes>"
      ]
     },
     "metadata": {
      "needs_background": "light"
     },
     "output_type": "display_data"
    }
   ],
   "source": [
    "fig, ax = plt.subplots(1, 1, figsize = (15, 7))\n",
    "\n",
    "disp = metrics.ConfusionMatrixDisplay(cm, display_labels=label_names)\n",
    "disp.plot(ax = ax, cmap = cmap)\n",
    "ax.set_ylabel('True label', fontsize = 20)\n",
    "ax.set_xlabel('Predicted label', fontsize = 20)\n",
    "ax.set_xticklabels(labels =label_names, rotation = 0, fontsize = 15)\n",
    "ax.set_yticklabels(labels =label_names, fontsize = 15)\n",
    "ax.set_title('Predictor\\'s confusion matrix', fontsize = 25)\n",
    "\n",
    "x, y, w, h = 0, 0, 1, 1\n",
    "\n",
    "\n",
    "\n",
    "for i in range(3):\n",
    "    ax.add_patch(Rectangle((x - 0.5, i - 0.5), w, h, fill=False, edgecolor='crimson', lw=4, clip_on=False, zorder = 2))\n",
    "    ax.add_patch(Rectangle((x + 1 - 0.5, i - 0.5), w, h, fill=False, edgecolor='crimson', lw=4, clip_on=False, zorder = 2))\n",
    "    ax.add_patch(Rectangle((x + 2 - 0.5, i - 0.5), w, h, fill=False, edgecolor='crimson', lw=4, clip_on=False, zorder = 2))\n",
    "\n",
    "for i in range(3):\n",
    "    ax.add_patch(Rectangle((x - 0.5, i - 0.5), w, h, fill=False, edgecolor='black', lw=6, clip_on=False, zorder = 1))\n",
    "    ax.add_patch(Rectangle((x + 1 - 0.5, i - 0.5), w, h, fill=False, edgecolor='black', lw=6, clip_on=False, zorder = 1))\n",
    "    ax.add_patch(Rectangle((x + 2 - 0.5, i - 0.5), w, h, fill=False, edgecolor='black', lw=6, clip_on=False, zorder = 1))\n",
    "\n",
    "\n",
    "ax.spines['right'].set_visible(False)\n",
    "ax.spines['top'].set_visible(False)\n",
    "ax.spines['bottom'].set_visible(False)\n",
    "ax.spines['left'].set_visible(False)\n",
    "plt.show()"
   ]
  },
  {
   "cell_type": "markdown",
   "metadata": {},
   "source": [
    "<center>\n",
    "\n",
    "## Discussion of the results\n",
    "</center>\n",
    "\n",
    "In the following we will discuss the results of the grid search and the final model for both the Random Forest and the XGBoost's case.\n",
    "We begin by looking at the confusion matrixes.\n",
    "\n",
    "<div>\n",
    "\n",
    "<center> \n",
    "\n",
    "<figure>\n",
    "<img src=\"../images/random_forest_cm.png\" width=\"500\" title = \"Random Forest\" class=\"inline-block\" display=\"inline\">\n",
    "    \n",
    "      \n",
    "            \n",
    "\n",
    "\n",
    "\n",
    "\n",
    "<img src=\"../images/xgb_cm.png\" width=\"500\" class=\"inline-block\" display=\"inline\">\n",
    "<figcaption style = \"font-size : 18px\">Confusion matrix of the random forest (left) and of the XGBoost algorith (right)</figcaption>\n",
    "</figure>\n",
    "<center>\n",
    "</div>"
   ]
  },
  {
   "cell_type": "markdown",
   "metadata": {},
   "source": [
    "The thing we should say right away is that we are pleased with the models' performance and that this type of behaviour was not granted given the framework we are working in.\n",
    "Confronting the 2 confusion matrixes, the XGBoost one performs better in predicting winners, we have similar results for the second and third positions, while the Random Forest is better in predicting the the position after the podium.<br>\n",
    "We don't mind in reality a little bit less precision in class 2 as the positions after the podium are the over rapresented class in the dataset and prone to feature over-fitting. Summing up, from the confusion matrixes alone we cannot pick a winner.\n",
    "\n",
    "<br/>\n",
    "\n",
    "We consider now the test errors, reported in the table below, for the 2 models,\n",
    "\n",
    "<br/>\n",
    "\n",
    "<center>\n",
    "\n",
    "|               | **Random Forest** | **XGBoost** |\n",
    "|:-------------:|-------------------|:-----------:|\n",
    "| **test loss** |       0.267       |    0.270    |\n",
    "</center>\n",
    "\n",
    "The results are still pretty similar, we rely then to a fery nice thing we have at our disposal when trating with tree-based models: the feature importance.\n"
   ]
  },
  {
   "cell_type": "markdown",
   "metadata": {},
   "source": [
    "<center>\n",
    "<table>\n",
    "<tr><th>Random Forest feature importance</th><th>XGBoost feature importance</th></tr>\n",
    "<tr><td>\n",
    "\n",
    "\n",
    "|  | **Random Forest** |\n",
    "|-------------------|:-----------:|\n",
    "|behind_below |\t0.190856|\n",
    "|position |\t0.126947|\n",
    "|standing_below\t| 0.126026|\n",
    "|prone_below |\t0.123482|\n",
    "|Behind\t| 0.102859|\n",
    "|back_from_median | 0.100237|\n",
    "|prone_above|0.025772|\n",
    "|km_to_go|0.024428|\n",
    "\n",
    "</td><td>\n",
    "\n",
    "\n",
    "|  | **XGBoost** |\n",
    "|-------------------|:-----------:|\n",
    "|behind_below|\t0.630113|\n",
    "|Behind|\t0.077770|\n",
    "|back_from_median|\t0.057414|\n",
    "|standing_below\t|0.042269|\n",
    "|behind_above\t|0.033233|\n",
    "|standing_remaining|\t0.030596|\n",
    "|km_to_go\t|0.019513|\n",
    "|prone_below|\t0.018108|\n",
    "\n",
    "</td></tr> </table>\n",
    "\n",
    "</center>\n"
   ]
  },
  {
   "cell_type": "markdown",
   "metadata": {},
   "source": [
    "Here is where we draw the line and we choose the random forest as our winner.\n",
    "We see infact something we do not particularly like in the XGBoost feature importance: the fact that the feature \"behind_below\" is so much more important than the other features, this way our model is a little bit too dependent on a single try and we would like to avoid that. Furthermore \"behind_below\" that is a weighted measure of how distant are opposing biathletes behind the athlete inspected, is not a feature that we expect being that much overwelmingly important, we would have been more confortable with the \"Behind\" entry along with \"position\" (that does not even break the top 8!) and \"back_from_median\" would have been a little more important."
   ]
  },
  {
   "cell_type": "markdown",
   "metadata": {},
   "source": []
  }
 ],
 "metadata": {
  "kernelspec": {
   "display_name": "Python 3.8.13 ('torch')",
   "language": "python",
   "name": "python3"
  },
  "language_info": {
   "codemirror_mode": {
    "name": "ipython",
    "version": 3
   },
   "file_extension": ".py",
   "mimetype": "text/x-python",
   "name": "python",
   "nbconvert_exporter": "python",
   "pygments_lexer": "ipython3",
   "version": "3.8.13"
  },
  "orig_nbformat": 4,
  "vscode": {
   "interpreter": {
    "hash": "eea8b80adef1497d7dfb4c0448d9c7aaf24335e0b82315474639507e757c963e"
   }
  }
 },
 "nbformat": 4,
 "nbformat_minor": 2
}
