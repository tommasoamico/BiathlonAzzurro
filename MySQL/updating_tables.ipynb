{
 "cells": [
  {
   "cell_type": "code",
   "execution_count": 1,
   "metadata": {},
   "outputs": [],
   "source": [
    "from functools import reduce\n",
    "import pandas as pd\n",
    "import numpy as np\n",
    "import mysql.connector"
   ]
  },
  {
   "cell_type": "code",
   "execution_count": 2,
   "metadata": {},
   "outputs": [],
   "source": [
    "\n",
    "\n",
    "# declare a connection to the MySQL server \n",
    "# the hostname (or IP) of the server machine should be passed\n",
    "\n",
    "db = mysql.connector.connect(\n",
    "  user=\"root\",\n",
    "  password=\"R13251618a\", \n",
    "  host=\"127.0.0.1\",)\n"
   ]
  },
  {
   "cell_type": "code",
   "execution_count": 3,
   "metadata": {},
   "outputs": [],
   "source": [
    "# creating the db cursor object\n",
    "dbc = db.cursor()"
   ]
  },
  {
   "cell_type": "code",
   "execution_count": 4,
   "metadata": {},
   "outputs": [],
   "source": [
    "database_to_use = \"World_cup\"\n",
    "\n",
    "dbc.execute(f\"USE {database_to_use};\")"
   ]
  },
  {
   "cell_type": "markdown",
   "metadata": {},
   "source": [
    "## Insrting into the races table"
   ]
  },
  {
   "cell_type": "code",
   "execution_count": 69,
   "metadata": {},
   "outputs": [],
   "source": [
    "def insert_race(dbc, db, values_to_insert, columns_to_insert = None):\n",
    "    \"\"\"\n",
    "    This function inserts values into the Races table\n",
    "    Parameters:\n",
    "\n",
    "        dbc_object: the cursor object obtained trough dbc.execute(DESCRIBE Races)\n",
    "        values_to_insert: A tuple of values to insert corresponding to the columns_to_insert\n",
    "        columns_to_insert: Tuple containing the columns to insert, if None all the columns except the Races_ID are inserted\n",
    "        dbc: the cursor object\n",
    "        db: the database object\n",
    "    \"\"\"\n",
    "    dbc.execute(\"DESCRIBE Races;\")\n",
    "    dbc_object = dbc.fetchall()\n",
    "\n",
    "    number_of_values = len(values_to_insert) # Number of values to insert\n",
    "\n",
    "    formatted_string_to_insert = '%s,' * number_of_values # Preparing the formatting string format\n",
    "    formatted_string_to_insert = formatted_string_to_insert[:-1] # Removing the last comma\n",
    "\n",
    "    if columns_to_insert == None: # If no columns are specified, all the columns are inserted\n",
    "        string_columns = map(lambda x: x[0], dbc_object) # Getting the columns names\n",
    "        \n",
    "        string_columns = list(string_columns)[1:] # Removing the first column (RaceID)\n",
    "        \n",
    "        string_columns = reduce(lambda x, y: x + y + ', ', string_columns, '') # Preparing the string to insert\n",
    "        string_columns = string_columns[:-2] # Removing the last comma and space\n",
    "\n",
    "    else:\n",
    "        string_columns = str(columns_to_insert).replace(\"'\", \"\") # Preparing the string to insert\n",
    "\n",
    "\n",
    "\n",
    "\n",
    "    string_to_insert = f\"INSERT INTO Races ({string_columns}) VALUES ({formatted_string_to_insert})\" \n",
    "    \n",
    "    val_ = [values_to_insert]\n",
    "    dbc.executemany(string_to_insert, val_)\n",
    "    db.commit()\n"
   ]
  },
  {
   "cell_type": "code",
   "execution_count": 74,
   "metadata": {},
   "outputs": [],
   "source": [
    "dbc.execute(f'UPDATE Races SET Date =\\'2022-11-29\\' WHERE RaceID = 1;')\n",
    "db.commit()\n"
   ]
  },
  {
   "cell_type": "code",
   "execution_count": 75,
   "metadata": {},
   "outputs": [],
   "source": [
    "insert_race(dbc, db, ('22-23', 'Sprint', 'Kontiolahti', 'FIN', '2022-12-03', 'M', 10, 'E 1.4',\\\n",
    "     'E 1.9', 'E 1.2', 'E 2.2', 'Hard packed variable', 'Hard packed variable', 'Hard packed variable',\\\n",
    "         'Hard packed variable', -2.8,  -2.8, -2.5, -2.5, -3.3, -3.2, -3.2, -3.2, 91, 91, 91, 91, 15238, 37, 34, 510))"
   ]
  },
  {
   "cell_type": "code",
   "execution_count": null,
   "metadata": {},
   "outputs": [],
   "source": [
    "def insert_results(dbc, db, path_csv, race_id):\n",
    "    dbc.execute(\"DESCRIBE Results\")\n",
    "    dbc_object = dbc.fetchall()\n",
    "\n",
    "    columns_df = pd.DataFrame(dbc_object) \n",
    "    columns_df = columns_df.loc[:,0].values\n",
    "    string_columns = reduce(lambda x, y: x + y + \", \", columns_df, '')\n",
    "    string_columns = string_columns[:-2]\n",
    "\n",
    "    number_of_values = len(columns_df)\n",
    "\n",
    "    formatted_string_to_insert = '%s,' * number_of_values # Preparing the formatting string format\n",
    "    formatted_string_to_insert = formatted_string_to_insert[:-1] # Removing the last comma\n",
    "\n",
    "    df = pd.read_csv(path_csv, sep=\"\\t\")\n",
    "    \n",
    "    df.insert(0, 'RaceID', race_id)\n",
    "    df.Behind = df.Behind.apply(lambda x: x[1:] if type(x) == str else x)\n",
    "    \n",
    "    df.loc[0, 'Behind'] = '0'\n",
    "    df.Behind = df.Behind.apply(lambda x: '00:' + x if x.count(':') == 1 else x) \n",
    "    df['Total Time'] = df['Total Time'].apply(lambda x: '00:' + x if x.count(':') == 1 else x)\n",
    "    \n",
    "    df.insert(3, 'FullName', df['Given Name'] + \" \" + df['Family\\xa0Name'])\n",
    "    for i in range(8, 12):\n",
    "        df.insert(i, 'Mistakes_' + str(i-7), list(map(lambda x: x[(i-8)*2], np.array(df.Shootings))))\n",
    "    df = df.drop(columns=['Shootings'])\n",
    "    val_ = list(map(lambda x: tuple(x) , np.array(df)))\n",
    "    results_statement = f\"\"\"INSERT INTO Results ({string_columns}) VALUES ({formatted_string_to_insert});\"\"\"\n",
    "\n",
    "    \n",
    "    dbc.executemany(results_statement, val_)\n",
    "    db.commit()\n",
    "    "
   ]
  },
  {
   "cell_type": "code",
   "execution_count": null,
   "metadata": {},
   "outputs": [],
   "source": [
    "insert_results(dbc, db, res_, \"../../../tmp.txt\", 2)"
   ]
  },
  {
   "cell_type": "code",
   "execution_count": null,
   "metadata": {},
   "outputs": [],
   "source": [
    "def insert_loop(dbc, db, path_csv, race_id, loop_id):\n",
    "    #path_csv = '../../../tmp.txt'\n",
    "    #race_id = 1\n",
    "    #loop_id = '1'\n",
    "    dbc.execute(\"DESCRIBE Loops;\")\n",
    "    dbc_object = dbc.fetchall()\n",
    "\n",
    "    columns_df = pd.DataFrame(dbc_object) \n",
    "    columns_df = columns_df.loc[:,0].values\n",
    "    string_columns = reduce(lambda x, y: x + y + \", \", columns_df, '')\n",
    "    string_columns = string_columns[:-2]\n",
    "    number_of_values = len(columns_df)\n",
    "    formatted_string_to_insert = '%s,' * number_of_values # Preparing the formatting string format\n",
    "    formatted_string_to_insert = formatted_string_to_insert[:-1] # Removing the last comma\n",
    "\n",
    "    df = pd.read_csv(path_csv, sep=\"\\t\")\n",
    "    df.insert(0, 'RaceID', race_id)\n",
    "    df.insert(0, 'LoopID', loop_id)\n",
    "    time_columns = list(df.columns)[list(df.columns).index('Cumulative Time'):]\n",
    "    for column in time_columns:\n",
    "        df[column] = df[column].apply(lambda x: '00:' + str(x) if str(x).count(':') == 1 else x)\n",
    "\n",
    "    df.insert(4, 'FullName', df['Given Name'] + \" \" + df['Family\\xa0Name'])\n",
    "\n",
    "    val_ = list(map(lambda x: tuple(x) , np.array(df)))\n",
    "    loops_statement = f\"\"\"INSERT INTO Loops ({string_columns}) VALUES ({formatted_string_to_insert});\"\"\"\n",
    "\n",
    "    dbc.executemany(loops_statement, val_)\n",
    "    db.commit()\n"
   ]
  },
  {
   "cell_type": "code",
   "execution_count": null,
   "metadata": {},
   "outputs": [],
   "source": [
    "insert_loop(dbc, db, '../../../tmp.txt', race_id=1, loop_id='1')"
   ]
  },
  {
   "cell_type": "code",
   "execution_count": null,
   "metadata": {},
   "outputs": [],
   "source": [
    "def insert_shooting(dbc, db, path_csv, race_id, n_ranges):\n",
    "    dbc.execute(\"DESCRIBE Shooting;\")\n",
    "    dbc_object = dbc.fetchall()\n",
    "\n",
    "    columns_df = pd.DataFrame(dbc_object) \n",
    "    columns_df = columns_df.loc[:,0].values\n",
    "    string_columns = reduce(lambda x, y: x + y + \", \", columns_df, '')\n",
    "    string_columns = string_columns[:-2]\n",
    "    number_of_values = len(columns_df)\n",
    "    formatted_string_to_insert = '%s,' * number_of_values # Preparing the formatting string format\n",
    "    formatted_string_to_insert = formatted_string_to_insert[:-1] # Removing the last comma\n",
    "\n",
    "    df = pd.read_csv(path_csv, sep=\"\\t\")\n",
    "    formatted_string_to_insert\n",
    "    df.insert(0, 'RaceID', race_id)\n",
    "    df.insert(3, 'FullName', df['Given Name'] + \" \" + df['Family\\xa0Name'])\n",
    "    columns_to_change =  np.array(df.columns[list(df.columns).index('Lane'):])\n",
    "    filt_column_change = columns_to_change[np.logical_or(np.arange(len(columns_to_change)) % 3 == 0,\\\n",
    "        np.arange(len(columns_to_change)) % 3 == 2)]\n",
    "    columns_final = [[f'Lane{i}', f'Time{i}'] for i in range(1, n_ranges + 1)]\n",
    "    columns_final_arr = np.array(columns_to_change)\n",
    "    columns_final_arr[np.logical_or(np.arange(len(columns_to_change)) % 3 == 0,\\\n",
    "        np.arange(len(columns_to_change)) % 3 == 2)] = reduce(lambda x, y: x + y, columns_final, [])\n",
    "    df.columns = np.concatenate([np.array(df.columns[:list(df.columns).index('Lane')]), columns_final_arr])\n",
    "    for shooting in range(1, n_ranges + 1):\n",
    "        df[f'Shooting {shooting}'] = df[f'Shooting {shooting}'].apply(lambda x: reduce(lambda x, y: x + ' ' + y,\\\n",
    "            list(filter(lambda x: x!='', map(lambda x: x.strip(), x.split('\\xa0'))))))\n",
    "        \n",
    "    val_ = list(map(lambda x: tuple(x) , np.array(df)))\n",
    "    loops_statement = f\"\"\"INSERT INTO Shooting ({string_columns}) VALUES ({formatted_string_to_insert});\"\"\"\n",
    "\n",
    "    dbc.executemany(loops_statement, val_)\n",
    "    db.commit()"
   ]
  },
  {
   "cell_type": "code",
   "execution_count": null,
   "metadata": {},
   "outputs": [],
   "source": [
    "insert_shooting(dbc, db, '../../../tmp.txt', race_id = 1, n_ranges = 4)"
   ]
  },
  {
   "cell_type": "code",
   "execution_count": null,
   "metadata": {},
   "outputs": [],
   "source": [
    "def insert_analysis(dbc, db, path_csv, race_id):\n",
    "\n",
    "    dbc.execute(\"DESCRIBE Analysis;\")\n",
    "    dbc_object = dbc.fetchall()\n",
    "\n",
    "    columns_df = pd.DataFrame(dbc_object) \n",
    "    columns_df = columns_df.loc[:,0].values\n",
    "    string_columns = reduce(lambda x, y: x + y + \", \", columns_df, '')\n",
    "    string_columns = string_columns[:-2]\n",
    "    number_of_values = len(columns_df)\n",
    "    formatted_string_to_insert = '%s,' * number_of_values # Preparing the formatting string format\n",
    "    formatted_string_to_insert = formatted_string_to_insert[:-1] # Removing the last comma\n",
    "    formatted_string_to_insert\n",
    "    df = pd.read_csv(path_csv, sep=\"\\t\")\n",
    "    df.insert(0, 'RaceID', race_id)\n",
    "    df.insert(3, 'FullName', df['Given Name'] + \" \" + df['Family\\xa0Name'])\n",
    "    df['Total Time'] = df['Total Time'].apply(lambda x: '00:' + str(x) if str(x).count(':') == 1 else x)\n",
    "    \n",
    "    val_ = list(map(lambda x: tuple(x) , np.array(df)))\n",
    "    analysis_statement = f\"\"\"INSERT INTO Analysis ({string_columns}) VALUES ({formatted_string_to_insert});\"\"\"\n",
    "\n",
    "    dbc.executemany(analysis_statement, val_)\n",
    "    db.commit()\n"
   ]
  },
  {
   "cell_type": "code",
   "execution_count": null,
   "metadata": {},
   "outputs": [],
   "source": [
    "insert_analysis(dbc, db, path_csv = '../../../tmp.txt', race_id = 1)"
   ]
  },
  {
   "cell_type": "code",
   "execution_count": null,
   "metadata": {},
   "outputs": [],
   "source": [
    "def insert_split_time(dbc, db, path_csv, race_id, km):\n",
    "\n",
    "    dbc.execute(\"DESCRIBE SplitTimes;\")\n",
    "    dbc_object = dbc.fetchall()\n",
    "\n",
    "    columns_df = pd.DataFrame(dbc_object) \n",
    "    columns_df = columns_df.loc[:,0].values\n",
    "    string_columns = reduce(lambda x, y: x + y + \", \", columns_df, '')\n",
    "    string_columns = string_columns[:-2]\n",
    "    number_of_values = len(columns_df)\n",
    "    formatted_string_to_insert = '%s,' * number_of_values # Preparing the formatting string format\n",
    "    formatted_string_to_insert = formatted_string_to_insert[:-1] # Removing the last comma\n",
    "    df = pd.read_csv(path_csv, sep=\"\\t\")\n",
    "    df.insert(0, 'RaceID', race_id)\n",
    "    df.insert(3, 'km', km)\n",
    "    df.insert(4, 'FullName', df['Given Name'] + \" \" + df['Family\\xa0Name'])\n",
    "    time_columns = ['Day Time', 'Sector Time', 'Net Time', 'Behind']\n",
    "    for col in time_columns:\n",
    "        df[col] = df[col].apply(lambda x: '00:' + str(x) if str(x).count(':') == 1 else x)\n",
    "\n",
    "\n",
    "    val_ = list(map(lambda x: tuple(x) , np.array(df)))\n",
    "    split_times_statement = f\"\"\"INSERT INTO SplitTimes ({string_columns}) VALUES ({formatted_string_to_insert});\"\"\"\n",
    "\n",
    "    dbc.executemany(split_times_statement, val_)\n",
    "    db.commit()"
   ]
  },
  {
   "cell_type": "code",
   "execution_count": null,
   "metadata": {},
   "outputs": [],
   "source": [
    "insert_split_time(dbc, db, '../../../tmp.txt', race_id = 1, km = 1.0)"
   ]
  },
  {
   "cell_type": "code",
   "execution_count": 76,
   "metadata": {},
   "outputs": [
    {
     "data": {
      "text/plain": [
       "True"
      ]
     },
     "execution_count": 76,
     "metadata": {},
     "output_type": "execute_result"
    }
   ],
   "source": [
    "dbc.close()"
   ]
  },
  {
   "cell_type": "code",
   "execution_count": 77,
   "metadata": {},
   "outputs": [],
   "source": [
    "db.close()"
   ]
  },
  {
   "cell_type": "code",
   "execution_count": null,
   "metadata": {},
   "outputs": [],
   "source": []
  }
 ],
 "metadata": {
  "kernelspec": {
   "display_name": "Python 3.8.15 ('base')",
   "language": "python",
   "name": "python3"
  },
  "language_info": {
   "codemirror_mode": {
    "name": "ipython",
    "version": 3
   },
   "file_extension": ".py",
   "mimetype": "text/x-python",
   "name": "python",
   "nbconvert_exporter": "python",
   "pygments_lexer": "ipython3",
   "version": "3.8.15 (default, Nov 10 2022, 13:17:42) \n[Clang 14.0.6 ]"
  },
  "orig_nbformat": 4,
  "vscode": {
   "interpreter": {
    "hash": "cd78fef2128015050713e82ca51c6520b11aee7c9ee8df750520bbbc7384cbaa"
   }
  }
 },
 "nbformat": 4,
 "nbformat_minor": 2
}
