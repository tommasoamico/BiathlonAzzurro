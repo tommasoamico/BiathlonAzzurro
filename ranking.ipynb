{
 "cells": [
  {
   "cell_type": "code",
   "execution_count": 122,
   "metadata": {},
   "outputs": [],
   "source": [
    "import numpy as np\n",
    "import scipy.sparse.linalg as sla"
   ]
  },
  {
   "cell_type": "code",
   "execution_count": 123,
   "metadata": {},
   "outputs": [
    {
     "data": {
      "text/plain": [
       "array([[0, 0, 0, 0, 1],\n",
       "       [2, 0, 0, 0, 0],\n",
       "       [2, 2, 0, 0, 0],\n",
       "       [2, 2, 2, 0, 0],\n",
       "       [1, 2, 2, 2, 0]])"
      ]
     },
     "execution_count": 123,
     "metadata": {},
     "output_type": "execute_result"
    }
   ],
   "source": [
    "tmp = np.array([[0,0,0,0,1],\\\n",
    "                [2,0,0,0,0],\\\n",
    "                [2,2,0,0,0],\\\n",
    "                [2,2,2,0,0],\\\n",
    "                [1,2,2,2,0]])\n",
    "\n",
    "tmp                "
   ]
  },
  {
   "cell_type": "code",
   "execution_count": 124,
   "metadata": {},
   "outputs": [
    {
     "data": {
      "text/plain": [
       "array([0.30882353, 0.17647059, 0.11764706, 0.08823529, 0.30882353])"
      ]
     },
     "execution_count": 124,
     "metadata": {},
     "output_type": "execute_result"
    }
   ],
   "source": [
    "tmp_2 = tmp / tmp.sum(axis=1).reshape(-1,1)\n",
    "#######\n",
    "tmp_2 = tmp_2.T\n",
    "tmp_2 = tmp_2 - np.eye(5)\n",
    "tmp_2[-1,:] = [1, 1, 1, 1, 1]\n",
    "np.linalg.solve(tmp_2, np.array([0, 0, 0, 0, 1]))"
   ]
  },
  {
   "cell_type": "code",
   "execution_count": 125,
   "metadata": {},
   "outputs": [
    {
     "ename": "IndexError",
     "evalue": "index 0 is out of bounds for axis 1 with size 0",
     "output_type": "error",
     "traceback": [
      "\u001b[0;31m---------------------------------------------------------------------------\u001b[0m",
      "\u001b[0;31mIndexError\u001b[0m                                Traceback (most recent call last)",
      "Cell \u001b[0;32mIn[125], line 14\u001b[0m\n\u001b[1;32m     12\u001b[0m close_to_1_idx \u001b[39m=\u001b[39m np\u001b[39m.\u001b[39misclose(eigenvals,\u001b[39m1\u001b[39m)\n\u001b[1;32m     13\u001b[0m target_eigenvect \u001b[39m=\u001b[39m eigenvects[:,close_to_1_idx]\n\u001b[0;32m---> 14\u001b[0m target_eigenvect \u001b[39m=\u001b[39m target_eigenvect[:,\u001b[39m0\u001b[39;49m]\n\u001b[1;32m     15\u001b[0m \u001b[39m# Turn the eigenvector elements into probabilites\u001b[39;00m\n\u001b[1;32m     16\u001b[0m stationary_distrib \u001b[39m=\u001b[39m target_eigenvect \u001b[39m/\u001b[39m \u001b[39msum\u001b[39m(target_eigenvect)\n",
      "\u001b[0;31mIndexError\u001b[0m: index 0 is out of bounds for axis 1 with size 0"
     ]
    }
   ],
   "source": [
    "'''\n",
    "Since the sum of each row is 1, our matrix is row stochastic.\n",
    "We'll transpose the matrix to calculate eigenvectors of the stochastic rows.\n",
    "'''\n",
    "transition_matrix_transp = tmp_2.T\n",
    "eigenvals, eigenvects = np.linalg.eig(transition_matrix_transp)\n",
    "'''\n",
    "Find the indexes of the eigenvalues that are close to one.\n",
    "Use them to select the target eigen vectors. Flatten the result.\n",
    "'''\n",
    "\n",
    "close_to_1_idx = np.isclose(eigenvals,1)\n",
    "target_eigenvect = eigenvects[:,close_to_1_idx]\n",
    "target_eigenvect = target_eigenvect[:,0]\n",
    "# Turn the eigenvector elements into probabilites\n",
    "stationary_distrib = target_eigenvect / sum(target_eigenvect)\n",
    "stationary_distrib.real"
   ]
  },
  {
   "cell_type": "code",
   "execution_count": 237,
   "metadata": {},
   "outputs": [
    {
     "data": {
      "text/plain": [
       "array([[0., 0., 0., ..., 0., 0., 0.],\n",
       "       [0., 0., 0., ..., 0., 0., 0.],\n",
       "       [0., 0., 0., ..., 0., 0., 0.],\n",
       "       ...,\n",
       "       [0., 0., 0., ..., 0., 0., 0.],\n",
       "       [0., 0., 0., ..., 0., 0., 0.],\n",
       "       [0., 0., 0., ..., 0., 0., 0.]])"
      ]
     },
     "execution_count": 237,
     "metadata": {},
     "output_type": "execute_result"
    }
   ],
   "source": [
    "finalVoting = np.zeros((40, 40))\n",
    "finalVoting"
   ]
  },
  {
   "cell_type": "code",
   "execution_count": 238,
   "metadata": {},
   "outputs": [],
   "source": [
    "for j in range(40):\n",
    "    #finalVoting[j+1:, j] = [1 + np.sum(range(1,i)) for i in range(1, 40 - j)][::-1]\n",
    "    #finalVoting[j+1:, j] = [1 + i for i in range(1, 40 - j)][::-1]\n",
    "    finalVoting[j+1:, j] = [40 /i for i in range(1, 40 - j)]"
   ]
  },
  {
   "cell_type": "code",
   "execution_count": 239,
   "metadata": {},
   "outputs": [
    {
     "data": {
      "text/plain": [
       "array([[ 0.        ,  1.        ,  1.        , ...,  1.        ,\n",
       "         1.        ,  1.        ],\n",
       "       [40.        ,  0.        ,  1.        , ...,  1.        ,\n",
       "         1.        ,  1.        ],\n",
       "       [20.        , 40.        ,  0.        , ...,  1.        ,\n",
       "         1.        ,  1.        ],\n",
       "       ...,\n",
       "       [ 1.08108108,  1.11111111,  1.14285714, ...,  0.        ,\n",
       "         1.        ,  1.        ],\n",
       "       [ 1.05263158,  1.08108108,  1.11111111, ..., 40.        ,\n",
       "         0.        ,  1.        ],\n",
       "       [ 1.02564103,  1.05263158,  1.08108108, ..., 20.        ,\n",
       "        40.        ,  0.        ]])"
      ]
     },
     "execution_count": 239,
     "metadata": {},
     "output_type": "execute_result"
    }
   ],
   "source": [
    "finalVoting = finalVoting + np.triu(np.ones(40), k = 1)\n",
    "finalVoting"
   ]
  },
  {
   "cell_type": "code",
   "execution_count": 240,
   "metadata": {},
   "outputs": [
    {
     "data": {
      "text/plain": [
       "array([0.05754994, 0.04857456, 0.04352251, 0.04016821, 0.03770694,\n",
       "       0.03578373, 0.03421383, 0.03288989, 0.03174443, 0.03073253,\n",
       "       0.02982285, 0.0289927 , 0.02822517, 0.02750731, 0.02682893,\n",
       "       0.02618193, 0.02555966, 0.02495662, 0.02436813, 0.02379018,\n",
       "       0.02321926, 0.02265219, 0.0220861 , 0.02151828, 0.02094614,\n",
       "       0.02036714, 0.01977866, 0.01917801, 0.01856222, 0.01792801,\n",
       "       0.01727155, 0.01658821, 0.0158722 , 0.01511587, 0.01430869,\n",
       "       0.01343513, 0.01247035, 0.01136984, 0.01003747, 0.00817463])"
      ]
     },
     "execution_count": 240,
     "metadata": {},
     "output_type": "execute_result"
    }
   ],
   "source": [
    "tmp_2 = finalVoting / finalVoting.sum(axis=1).reshape(-1,1)\n",
    "#######\n",
    "tmp_2 = tmp_2.T\n",
    "tmp_2 = tmp_2 - np.eye(40)\n",
    "tmp_2[-1,:] = [1 for _ in range(40)]\n",
    "solution = np.linalg.solve(tmp_2, [0 for _ in range(39)] + [1])\n",
    "solution"
   ]
  },
  {
   "cell_type": "code",
   "execution_count": 241,
   "metadata": {},
   "outputs": [
    {
     "data": {
      "text/plain": [
       "array([90.        , 75.96377011, 68.06307737, 62.81742469, 58.96834388,\n",
       "       55.96071798, 53.50561806, 51.43515052, 49.64382229, 48.06135359,\n",
       "       46.63873468, 45.34050322, 44.14019888, 43.01755282, 41.95667692,\n",
       "       40.94485565, 39.97171507, 39.02863516, 38.10832368, 37.20449895,\n",
       "       36.3116477 , 35.42483434, 34.53954562, 33.65155817, 32.75681954,\n",
       "       31.85133394, 30.93104424, 29.99170029, 29.02870059, 28.03688867,\n",
       "       27.01027443, 25.9416313 , 24.82188077, 23.6390966 , 22.37678334,\n",
       "       21.01064912, 19.50187664, 17.78082529, 15.69718774, 12.78397303])"
      ]
     },
     "execution_count": 241,
     "metadata": {},
     "output_type": "execute_result"
    }
   ],
   "source": [
    "solution * (90 / solution[0])"
   ]
  },
  {
   "cell_type": "code",
   "execution_count": 149,
   "metadata": {},
   "outputs": [
    {
     "data": {
      "text/plain": [
       "[0,\n",
       " 0,\n",
       " 0,\n",
       " 0,\n",
       " 0,\n",
       " 0,\n",
       " 0,\n",
       " 0,\n",
       " 0,\n",
       " 0,\n",
       " 0,\n",
       " 0,\n",
       " 0,\n",
       " 0,\n",
       " 0,\n",
       " 0,\n",
       " 0,\n",
       " 0,\n",
       " 0,\n",
       " 0,\n",
       " 0,\n",
       " 0,\n",
       " 0,\n",
       " 0,\n",
       " 0,\n",
       " 0,\n",
       " 0,\n",
       " 0,\n",
       " 0,\n",
       " 0,\n",
       " 0,\n",
       " 0,\n",
       " 0,\n",
       " 0,\n",
       " 0,\n",
       " 0,\n",
       " 0,\n",
       " 0,\n",
       " 0,\n",
       " 1]"
      ]
     },
     "execution_count": 149,
     "metadata": {},
     "output_type": "execute_result"
    }
   ],
   "source": [
    "[0 for _ in range(39)] + [1]"
   ]
  },
  {
   "cell_type": "code",
   "execution_count": null,
   "metadata": {},
   "outputs": [],
   "source": []
  }
 ],
 "metadata": {
  "kernelspec": {
   "display_name": "new_base",
   "language": "python",
   "name": "python3"
  },
  "language_info": {
   "codemirror_mode": {
    "name": "ipython",
    "version": 3
   },
   "file_extension": ".py",
   "mimetype": "text/x-python",
   "name": "python",
   "nbconvert_exporter": "python",
   "pygments_lexer": "ipython3",
   "version": "3.8.15"
  },
  "orig_nbformat": 4,
  "vscode": {
   "interpreter": {
    "hash": "049c3faca376b1976ae329794504ff854f5d1e61c3431401dfb8492af7c5ef4a"
   }
  }
 },
 "nbformat": 4,
 "nbformat_minor": 2
}
